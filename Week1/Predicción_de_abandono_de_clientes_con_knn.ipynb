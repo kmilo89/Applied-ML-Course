{
  "cells": [
    {
      "cell_type": "markdown",
      "metadata": {
        "id": "cYs4tkMHgK8-"
      },
      "source": [
        "# **Tutorial**\n",
        "\n",
        "En este tutorial, analizará una base de datos de predicción de abandono de clientes [*Telco customer churn*](https://www.kaggle.com/datasets/blastchar/telco-customer-churn).\n",
        "\n",
        "![Churn prediction](./images/churn_prediction.png)\n"
      ]
    },
    {
      "cell_type": "markdown",
      "metadata": {
        "id": "SigyqJdYhAUC"
      },
      "source": [
        "## **Descarga de datos**\n",
        "\n",
        "Lo primero que hará será descargar los datos con los que va a trabajar:\n",
        "\n",
        "- Tabla de datos de clientes (archivo csv).\n",
        "\n",
        "Estos archivos quedarán en la carpeta _/content/data.csv asociada con el sistema operativo del servidor en el que se está ejecutando google colab."
      ]
    },
    {
      "cell_type": "code",
      "execution_count": 1,
      "metadata": {
        "id": "RK5ct2LNhVW2"
      },
      "outputs": [
        {
          "name": "stdout",
          "output_type": "stream",
          "text": [
            "--2025-09-17 13:31:32--  https://docs.google.com/uc?export=download&id=1d6iPtgmKM5N2mtrWFb-SzLdGCwLWmxF9\n",
            "Resolving docs.google.com (docs.google.com)... 172.217.28.110, 2800:3f0:4005:401::200e\n",
            "Connecting to docs.google.com (docs.google.com)|172.217.28.110|:443... connected.\n",
            "HTTP request sent, awaiting response... 303 See Other\n",
            "Location: https://drive.usercontent.google.com/download?id=1d6iPtgmKM5N2mtrWFb-SzLdGCwLWmxF9&export=download [following]\n",
            "--2025-09-17 13:31:32--  https://drive.usercontent.google.com/download?id=1d6iPtgmKM5N2mtrWFb-SzLdGCwLWmxF9&export=download\n",
            "Resolving drive.usercontent.google.com (drive.usercontent.google.com)... 142.251.133.129, 2800:3f0:4005:419::2001\n",
            "Connecting to drive.usercontent.google.com (drive.usercontent.google.com)|142.251.133.129|:443... connected.\n",
            "HTTP request sent, awaiting response... 200 OK\n",
            "Length: 977501 (955K) [application/octet-stream]\n",
            "Saving to: ‘data.csv’\n",
            "\n",
            "data.csv            100%[===================>] 954.59K  5.02MB/s    in 0.2s    \n",
            "\n",
            "2025-09-17 13:31:34 (5.02 MB/s) - ‘data.csv’ saved [977501/977501]\n",
            "\n"
          ]
        }
      ],
      "source": [
        "!wget --no-check-certificate 'https://docs.google.com/uc?export=download&id=1d6iPtgmKM5N2mtrWFb-SzLdGCwLWmxF9' -O data.csv"
      ]
    },
    {
      "cell_type": "markdown",
      "metadata": {
        "id": "jipGiDt4iMoI"
      },
      "source": [
        "### **Importar las librerías necesarias**\n",
        "\n",
        "Importe las librerías que le servirán para el procesamiento y visualización de datos. "
      ]
    },
    {
      "cell_type": "code",
      "execution_count": 2,
      "metadata": {
        "id": "nXgDFvLqiQUd"
      },
      "outputs": [],
      "source": [
        "import pandas as pd\n",
        "import numpy as np\n",
        "\n",
        "import seaborn as sns\n",
        "from matplotlib import pyplot as plt\n",
        "%matplotlib inline"
      ]
    },
    {
      "cell_type": "markdown",
      "metadata": {
        "id": "XXygikhCiaEU"
      },
      "source": [
        "## **1. Procesamiento básico**\n",
        "\n",
        "En este primer paso, cargará la base de datos (archivo .csv) a un _dataframe_ de pandas y utilizará algunas funciones de la librería que le ayudarán a tener información básica de los datos. De forma resumida, un _dataframe_ de pandas es una estructura de datos bidimensional en la que los datos se organizan en filas y columnas. Es similar a una hoja de cálculo en Excel, donde cada columna representa una variable y cada fila representa una observación.\n"
      ]
    },
    {
      "cell_type": "code",
      "execution_count": 3,
      "metadata": {
        "id": "yFYUSyC3idzr"
      },
      "outputs": [],
      "source": [
        "df = pd.read_csv('data.csv')"
      ]
    },
    {
      "cell_type": "code",
      "execution_count": 4,
      "metadata": {
        "colab": {
          "base_uri": "https://localhost:8080/"
        },
        "id": "mabS48LCikEq",
        "outputId": "642d833d-c564-4d53-e1f6-6f7873d8aee2"
      },
      "outputs": [
        {
          "data": {
            "text/plain": [
              "(7043, 21)"
            ]
          },
          "execution_count": 4,
          "metadata": {},
          "output_type": "execute_result"
        }
      ],
      "source": [
        "df.shape #Tamaño de la tabla (df.shape[0] es el número de filas y df.shape[1] es el número de columnas)"
      ]
    },
    {
      "cell_type": "code",
      "execution_count": 5,
      "metadata": {
        "colab": {
          "base_uri": "https://localhost:8080/",
          "height": 386
        },
        "id": "NJ2ailoDipkH",
        "outputId": "28de35b3-73d7-4697-b896-00caa363f555"
      },
      "outputs": [
        {
          "data": {
            "text/html": [
              "<div>\n",
              "<style scoped>\n",
              "    .dataframe tbody tr th:only-of-type {\n",
              "        vertical-align: middle;\n",
              "    }\n",
              "\n",
              "    .dataframe tbody tr th {\n",
              "        vertical-align: top;\n",
              "    }\n",
              "\n",
              "    .dataframe thead th {\n",
              "        text-align: right;\n",
              "    }\n",
              "</style>\n",
              "<table border=\"1\" class=\"dataframe\">\n",
              "  <thead>\n",
              "    <tr style=\"text-align: right;\">\n",
              "      <th></th>\n",
              "      <th>customerID</th>\n",
              "      <th>gender</th>\n",
              "      <th>SeniorCitizen</th>\n",
              "      <th>Partner</th>\n",
              "      <th>Dependents</th>\n",
              "      <th>tenure</th>\n",
              "      <th>PhoneService</th>\n",
              "      <th>MultipleLines</th>\n",
              "      <th>InternetService</th>\n",
              "      <th>OnlineSecurity</th>\n",
              "      <th>...</th>\n",
              "      <th>DeviceProtection</th>\n",
              "      <th>TechSupport</th>\n",
              "      <th>StreamingTV</th>\n",
              "      <th>StreamingMovies</th>\n",
              "      <th>Contract</th>\n",
              "      <th>PaperlessBilling</th>\n",
              "      <th>PaymentMethod</th>\n",
              "      <th>MonthlyCharges</th>\n",
              "      <th>TotalCharges</th>\n",
              "      <th>Churn</th>\n",
              "    </tr>\n",
              "  </thead>\n",
              "  <tbody>\n",
              "    <tr>\n",
              "      <th>0</th>\n",
              "      <td>7590-VHVEG</td>\n",
              "      <td>Female</td>\n",
              "      <td>0</td>\n",
              "      <td>Yes</td>\n",
              "      <td>No</td>\n",
              "      <td>1</td>\n",
              "      <td>No</td>\n",
              "      <td>No phone service</td>\n",
              "      <td>DSL</td>\n",
              "      <td>No</td>\n",
              "      <td>...</td>\n",
              "      <td>No</td>\n",
              "      <td>No</td>\n",
              "      <td>No</td>\n",
              "      <td>No</td>\n",
              "      <td>Month-to-month</td>\n",
              "      <td>Yes</td>\n",
              "      <td>Electronic check</td>\n",
              "      <td>29.85</td>\n",
              "      <td>29.85</td>\n",
              "      <td>No</td>\n",
              "    </tr>\n",
              "    <tr>\n",
              "      <th>1</th>\n",
              "      <td>5575-GNVDE</td>\n",
              "      <td>Male</td>\n",
              "      <td>0</td>\n",
              "      <td>No</td>\n",
              "      <td>No</td>\n",
              "      <td>34</td>\n",
              "      <td>Yes</td>\n",
              "      <td>No</td>\n",
              "      <td>DSL</td>\n",
              "      <td>Yes</td>\n",
              "      <td>...</td>\n",
              "      <td>Yes</td>\n",
              "      <td>No</td>\n",
              "      <td>No</td>\n",
              "      <td>No</td>\n",
              "      <td>One year</td>\n",
              "      <td>No</td>\n",
              "      <td>Mailed check</td>\n",
              "      <td>56.95</td>\n",
              "      <td>1889.5</td>\n",
              "      <td>No</td>\n",
              "    </tr>\n",
              "    <tr>\n",
              "      <th>2</th>\n",
              "      <td>3668-QPYBK</td>\n",
              "      <td>Male</td>\n",
              "      <td>0</td>\n",
              "      <td>No</td>\n",
              "      <td>No</td>\n",
              "      <td>2</td>\n",
              "      <td>Yes</td>\n",
              "      <td>No</td>\n",
              "      <td>DSL</td>\n",
              "      <td>Yes</td>\n",
              "      <td>...</td>\n",
              "      <td>No</td>\n",
              "      <td>No</td>\n",
              "      <td>No</td>\n",
              "      <td>No</td>\n",
              "      <td>Month-to-month</td>\n",
              "      <td>Yes</td>\n",
              "      <td>Mailed check</td>\n",
              "      <td>53.85</td>\n",
              "      <td>108.15</td>\n",
              "      <td>Yes</td>\n",
              "    </tr>\n",
              "    <tr>\n",
              "      <th>3</th>\n",
              "      <td>7795-CFOCW</td>\n",
              "      <td>Male</td>\n",
              "      <td>0</td>\n",
              "      <td>No</td>\n",
              "      <td>No</td>\n",
              "      <td>45</td>\n",
              "      <td>No</td>\n",
              "      <td>No phone service</td>\n",
              "      <td>DSL</td>\n",
              "      <td>Yes</td>\n",
              "      <td>...</td>\n",
              "      <td>Yes</td>\n",
              "      <td>Yes</td>\n",
              "      <td>No</td>\n",
              "      <td>No</td>\n",
              "      <td>One year</td>\n",
              "      <td>No</td>\n",
              "      <td>Bank transfer (automatic)</td>\n",
              "      <td>42.30</td>\n",
              "      <td>1840.75</td>\n",
              "      <td>No</td>\n",
              "    </tr>\n",
              "    <tr>\n",
              "      <th>4</th>\n",
              "      <td>9237-HQITU</td>\n",
              "      <td>Female</td>\n",
              "      <td>0</td>\n",
              "      <td>No</td>\n",
              "      <td>No</td>\n",
              "      <td>2</td>\n",
              "      <td>Yes</td>\n",
              "      <td>No</td>\n",
              "      <td>Fiber optic</td>\n",
              "      <td>No</td>\n",
              "      <td>...</td>\n",
              "      <td>No</td>\n",
              "      <td>No</td>\n",
              "      <td>No</td>\n",
              "      <td>No</td>\n",
              "      <td>Month-to-month</td>\n",
              "      <td>Yes</td>\n",
              "      <td>Electronic check</td>\n",
              "      <td>70.70</td>\n",
              "      <td>151.65</td>\n",
              "      <td>Yes</td>\n",
              "    </tr>\n",
              "  </tbody>\n",
              "</table>\n",
              "<p>5 rows × 21 columns</p>\n",
              "</div>"
            ],
            "text/plain": [
              "   customerID  gender  SeniorCitizen Partner Dependents  tenure PhoneService  \\\n",
              "0  7590-VHVEG  Female              0     Yes         No       1           No   \n",
              "1  5575-GNVDE    Male              0      No         No      34          Yes   \n",
              "2  3668-QPYBK    Male              0      No         No       2          Yes   \n",
              "3  7795-CFOCW    Male              0      No         No      45           No   \n",
              "4  9237-HQITU  Female              0      No         No       2          Yes   \n",
              "\n",
              "      MultipleLines InternetService OnlineSecurity  ... DeviceProtection  \\\n",
              "0  No phone service             DSL             No  ...               No   \n",
              "1                No             DSL            Yes  ...              Yes   \n",
              "2                No             DSL            Yes  ...               No   \n",
              "3  No phone service             DSL            Yes  ...              Yes   \n",
              "4                No     Fiber optic             No  ...               No   \n",
              "\n",
              "  TechSupport StreamingTV StreamingMovies        Contract PaperlessBilling  \\\n",
              "0          No          No              No  Month-to-month              Yes   \n",
              "1          No          No              No        One year               No   \n",
              "2          No          No              No  Month-to-month              Yes   \n",
              "3         Yes          No              No        One year               No   \n",
              "4          No          No              No  Month-to-month              Yes   \n",
              "\n",
              "               PaymentMethod MonthlyCharges  TotalCharges Churn  \n",
              "0           Electronic check          29.85         29.85    No  \n",
              "1               Mailed check          56.95        1889.5    No  \n",
              "2               Mailed check          53.85        108.15   Yes  \n",
              "3  Bank transfer (automatic)          42.30       1840.75    No  \n",
              "4           Electronic check          70.70        151.65   Yes  \n",
              "\n",
              "[5 rows x 21 columns]"
            ]
          },
          "execution_count": 5,
          "metadata": {},
          "output_type": "execute_result"
        }
      ],
      "source": [
        "df.head() #Mostrar las primeras 5 filas de la tabla "
      ]
    },
    {
      "cell_type": "markdown",
      "metadata": {
        "id": "YTI8myJ-jjep"
      },
      "source": [
        "### Telcom Customer Churn\n",
        "\n",
        "Each row represents a customer, each column contains customer’s attributes described on the column Metadata.\n",
        "\n",
        "Column |\tDescription\n",
        "--- | ---\n",
        "customerID |\tCustomer ID\n",
        "gender |\tWhether the customer is a male or a female\n",
        "SeniorCitizen\t| Whether the customer is a senior citizen or not (1, 0)\n",
        "Partner\t| Whether the customer has a partner or not (Yes, No)\n",
        "Dependents |\tWhether the customer has dependents or not (Yes, No)\n",
        "Tenure\t| Number of months the customer has stayed with the company\n",
        "PhoneService | Whether the customer has a phone service or not (Yes, No)\n",
        "MultipleLines |\tWhether the customer has multiple lines or not (Yes, No, No phone service)\n",
        "InternetService |\tCustomer’s internet service provider (DSL, Fiber optic, No)\n",
        "OnlineSecurity |\tWhether the customer has online security or not (Yes, No, No internet service)\n",
        "OnlineBackup |\tWhether the customer has online backup or not (Yes, No, No internet service)\n",
        "DeviceProtection |\tWhether the customer has device protection or not (Yes, No, No internet service)\n",
        "TechSupport |\tWhether the customer has tech support or not (Yes, No, No internet service)\n",
        "StreamingTV |\tWhether the customer has streaming TV or not (Yes, No, No internet service)\n",
        "StreamingMovies |\tWhether the customer has streaming movies or not (Yes, No, No internet service)\n",
        "Contract |\tThe contract term of the customer (Month-to-month, One year, Two year)\n",
        "PaperlessBilling |\tWhether the customer has paperless billing or not (Yes, No)\n",
        "PaymentMethod |\tThe customer’s payment method (Electronic check, Mailed check, Bank transfer, Credit card)\n",
        "MonthlyCharges |\tThe amount charged to the customer monthly\n",
        "TotalCharges |\tThe total amount charged to the customer\n",
        "Churn |\tWhether the customer churned"
      ]
    },
    {
      "cell_type": "code",
      "execution_count": 6,
      "metadata": {
        "colab": {
          "base_uri": "https://localhost:8080/"
        },
        "id": "cFOGGEsLiu_t",
        "outputId": "9cfb069b-20d1-49c8-b26c-eef20ebb0b16"
      },
      "outputs": [
        {
          "data": {
            "text/plain": [
              "customerID           object\n",
              "gender               object\n",
              "SeniorCitizen         int64\n",
              "Partner              object\n",
              "Dependents           object\n",
              "tenure                int64\n",
              "PhoneService         object\n",
              "MultipleLines        object\n",
              "InternetService      object\n",
              "OnlineSecurity       object\n",
              "OnlineBackup         object\n",
              "DeviceProtection     object\n",
              "TechSupport          object\n",
              "StreamingTV          object\n",
              "StreamingMovies      object\n",
              "Contract             object\n",
              "PaperlessBilling     object\n",
              "PaymentMethod        object\n",
              "MonthlyCharges      float64\n",
              "TotalCharges         object\n",
              "Churn                object\n",
              "dtype: object"
            ]
          },
          "execution_count": 6,
          "metadata": {},
          "output_type": "execute_result"
        }
      ],
      "source": [
        "df.dtypes #Muestra el tipo de dato que se almacena en cada columna de la tabla"
      ]
    },
    {
      "cell_type": "code",
      "execution_count": 7,
      "metadata": {},
      "outputs": [
        {
          "name": "stdout",
          "output_type": "stream",
          "text": [
            "Valores faltantes en 'TotalCharges': 0\n",
            "Porcentaje de valores faltantes: 0.00%\n",
            "\n",
            "Ejemplo de filas con valores nulos en 'TotalCharges':\n",
            "Empty DataFrame\n",
            "Columns: [customerID, gender, SeniorCitizen, Partner, Dependents, tenure, PhoneService, MultipleLines, InternetService, OnlineSecurity, OnlineBackup, DeviceProtection, TechSupport, StreamingTV, StreamingMovies, Contract, PaperlessBilling, PaymentMethod, MonthlyCharges, TotalCharges, Churn]\n",
            "Index: []\n",
            "\n",
            "[0 rows x 21 columns]\n"
          ]
        }
      ],
      "source": [
        "import pandas as pd\n",
        "\n",
        "# Verificar valores faltantes en la columna 'TotalCharges'\n",
        "missing_count = df['TotalCharges'].isna().sum()  # Cantidad total de valores nulos\n",
        "total_rows = len(df)  # Total de filas en el DataFrame\n",
        "missing_percentage = (missing_count / total_rows) * 100  # Porcentaje de valores nulos\n",
        "\n",
        "# Mostrar estadísticas de valores faltantes\n",
        "print(f\"Valores faltantes en 'TotalCharges': {missing_count}\")\n",
        "print(f\"Porcentaje de valores faltantes: {missing_percentage:.2f}%\")\n",
        "\n",
        "# Opcional: Mostrar las primeras filas con valores nulos\n",
        "print(\"\\nEjemplo de filas con valores nulos en 'TotalCharges':\")\n",
        "print(df[df['TotalCharges'].isna()].head())\n"
      ]
    },
    {
      "cell_type": "code",
      "execution_count": 8,
      "metadata": {
        "id": "hLbK9EQ2jHLi"
      },
      "outputs": [],
      "source": [
        "# Modificamos la variable 'TotalCharges' a tipo numérico\n",
        "df['TotalCharges'] = pd.to_numeric(df['TotalCharges'], errors='coerce')\n",
        "df['TotalCharges'] = df['TotalCharges'].fillna(0)"
      ]
    },
    {
      "cell_type": "code",
      "execution_count": 9,
      "metadata": {
        "id": "wNWDfGvrovct"
      },
      "outputs": [
        {
          "data": {
            "text/html": [
              "<div>\n",
              "<style scoped>\n",
              "    .dataframe tbody tr th:only-of-type {\n",
              "        vertical-align: middle;\n",
              "    }\n",
              "\n",
              "    .dataframe tbody tr th {\n",
              "        vertical-align: top;\n",
              "    }\n",
              "\n",
              "    .dataframe thead th {\n",
              "        text-align: right;\n",
              "    }\n",
              "</style>\n",
              "<table border=\"1\" class=\"dataframe\">\n",
              "  <thead>\n",
              "    <tr style=\"text-align: right;\">\n",
              "      <th></th>\n",
              "      <th>customerid</th>\n",
              "      <th>gender</th>\n",
              "      <th>seniorcitizen</th>\n",
              "      <th>partner</th>\n",
              "      <th>dependents</th>\n",
              "      <th>tenure</th>\n",
              "      <th>phoneservice</th>\n",
              "      <th>multiplelines</th>\n",
              "      <th>internetservice</th>\n",
              "      <th>onlinesecurity</th>\n",
              "      <th>...</th>\n",
              "      <th>deviceprotection</th>\n",
              "      <th>techsupport</th>\n",
              "      <th>streamingtv</th>\n",
              "      <th>streamingmovies</th>\n",
              "      <th>contract</th>\n",
              "      <th>paperlessbilling</th>\n",
              "      <th>paymentmethod</th>\n",
              "      <th>monthlycharges</th>\n",
              "      <th>totalcharges</th>\n",
              "      <th>churn</th>\n",
              "    </tr>\n",
              "  </thead>\n",
              "  <tbody>\n",
              "    <tr>\n",
              "      <th>0</th>\n",
              "      <td>7590-vhveg</td>\n",
              "      <td>female</td>\n",
              "      <td>0</td>\n",
              "      <td>yes</td>\n",
              "      <td>no</td>\n",
              "      <td>1</td>\n",
              "      <td>no</td>\n",
              "      <td>no_phone_service</td>\n",
              "      <td>dsl</td>\n",
              "      <td>no</td>\n",
              "      <td>...</td>\n",
              "      <td>no</td>\n",
              "      <td>no</td>\n",
              "      <td>no</td>\n",
              "      <td>no</td>\n",
              "      <td>month-to-month</td>\n",
              "      <td>yes</td>\n",
              "      <td>electronic_check</td>\n",
              "      <td>29.85</td>\n",
              "      <td>29.85</td>\n",
              "      <td>no</td>\n",
              "    </tr>\n",
              "    <tr>\n",
              "      <th>1</th>\n",
              "      <td>5575-gnvde</td>\n",
              "      <td>male</td>\n",
              "      <td>0</td>\n",
              "      <td>no</td>\n",
              "      <td>no</td>\n",
              "      <td>34</td>\n",
              "      <td>yes</td>\n",
              "      <td>no</td>\n",
              "      <td>dsl</td>\n",
              "      <td>yes</td>\n",
              "      <td>...</td>\n",
              "      <td>yes</td>\n",
              "      <td>no</td>\n",
              "      <td>no</td>\n",
              "      <td>no</td>\n",
              "      <td>one_year</td>\n",
              "      <td>no</td>\n",
              "      <td>mailed_check</td>\n",
              "      <td>56.95</td>\n",
              "      <td>1889.50</td>\n",
              "      <td>no</td>\n",
              "    </tr>\n",
              "    <tr>\n",
              "      <th>2</th>\n",
              "      <td>3668-qpybk</td>\n",
              "      <td>male</td>\n",
              "      <td>0</td>\n",
              "      <td>no</td>\n",
              "      <td>no</td>\n",
              "      <td>2</td>\n",
              "      <td>yes</td>\n",
              "      <td>no</td>\n",
              "      <td>dsl</td>\n",
              "      <td>yes</td>\n",
              "      <td>...</td>\n",
              "      <td>no</td>\n",
              "      <td>no</td>\n",
              "      <td>no</td>\n",
              "      <td>no</td>\n",
              "      <td>month-to-month</td>\n",
              "      <td>yes</td>\n",
              "      <td>mailed_check</td>\n",
              "      <td>53.85</td>\n",
              "      <td>108.15</td>\n",
              "      <td>yes</td>\n",
              "    </tr>\n",
              "    <tr>\n",
              "      <th>3</th>\n",
              "      <td>7795-cfocw</td>\n",
              "      <td>male</td>\n",
              "      <td>0</td>\n",
              "      <td>no</td>\n",
              "      <td>no</td>\n",
              "      <td>45</td>\n",
              "      <td>no</td>\n",
              "      <td>no_phone_service</td>\n",
              "      <td>dsl</td>\n",
              "      <td>yes</td>\n",
              "      <td>...</td>\n",
              "      <td>yes</td>\n",
              "      <td>yes</td>\n",
              "      <td>no</td>\n",
              "      <td>no</td>\n",
              "      <td>one_year</td>\n",
              "      <td>no</td>\n",
              "      <td>bank_transfer_(automatic)</td>\n",
              "      <td>42.30</td>\n",
              "      <td>1840.75</td>\n",
              "      <td>no</td>\n",
              "    </tr>\n",
              "    <tr>\n",
              "      <th>4</th>\n",
              "      <td>9237-hqitu</td>\n",
              "      <td>female</td>\n",
              "      <td>0</td>\n",
              "      <td>no</td>\n",
              "      <td>no</td>\n",
              "      <td>2</td>\n",
              "      <td>yes</td>\n",
              "      <td>no</td>\n",
              "      <td>fiber_optic</td>\n",
              "      <td>no</td>\n",
              "      <td>...</td>\n",
              "      <td>no</td>\n",
              "      <td>no</td>\n",
              "      <td>no</td>\n",
              "      <td>no</td>\n",
              "      <td>month-to-month</td>\n",
              "      <td>yes</td>\n",
              "      <td>electronic_check</td>\n",
              "      <td>70.70</td>\n",
              "      <td>151.65</td>\n",
              "      <td>yes</td>\n",
              "    </tr>\n",
              "  </tbody>\n",
              "</table>\n",
              "<p>5 rows × 21 columns</p>\n",
              "</div>"
            ],
            "text/plain": [
              "   customerid  gender  seniorcitizen partner dependents  tenure phoneservice  \\\n",
              "0  7590-vhveg  female              0     yes         no       1           no   \n",
              "1  5575-gnvde    male              0      no         no      34          yes   \n",
              "2  3668-qpybk    male              0      no         no       2          yes   \n",
              "3  7795-cfocw    male              0      no         no      45           no   \n",
              "4  9237-hqitu  female              0      no         no       2          yes   \n",
              "\n",
              "      multiplelines internetservice onlinesecurity  ... deviceprotection  \\\n",
              "0  no_phone_service             dsl             no  ...               no   \n",
              "1                no             dsl            yes  ...              yes   \n",
              "2                no             dsl            yes  ...               no   \n",
              "3  no_phone_service             dsl            yes  ...              yes   \n",
              "4                no     fiber_optic             no  ...               no   \n",
              "\n",
              "  techsupport streamingtv streamingmovies        contract paperlessbilling  \\\n",
              "0          no          no              no  month-to-month              yes   \n",
              "1          no          no              no        one_year               no   \n",
              "2          no          no              no  month-to-month              yes   \n",
              "3         yes          no              no        one_year               no   \n",
              "4          no          no              no  month-to-month              yes   \n",
              "\n",
              "               paymentmethod monthlycharges  totalcharges  churn  \n",
              "0           electronic_check          29.85         29.85     no  \n",
              "1               mailed_check          56.95       1889.50     no  \n",
              "2               mailed_check          53.85        108.15    yes  \n",
              "3  bank_transfer_(automatic)          42.30       1840.75     no  \n",
              "4           electronic_check          70.70        151.65    yes  \n",
              "\n",
              "[5 rows x 21 columns]"
            ]
          },
          "execution_count": 9,
          "metadata": {},
          "output_type": "execute_result"
        }
      ],
      "source": [
        "# Inlcuir guiones bajos en valores como No internet service\n",
        "df.columns = df.columns.str.lower().str.replace(' ', '_')\n",
        "\n",
        "string_columns = list(df.dtypes[df.dtypes == 'object'].index)\n",
        "\n",
        "for col in string_columns:\n",
        "    df[col] = df[col].str.lower().str.replace(' ', '_')\n",
        "\n",
        "df.head() #Mostrar las primeras 5 filas de la tabla \n",
        "\n"
      ]
    },
    {
      "cell_type": "code",
      "execution_count": 10,
      "metadata": {
        "id": "I_ZSllAYrzVh"
      },
      "outputs": [
        {
          "data": {
            "text/plain": [
              "'\\n#One-hot-encoding para variables categóricas\\none_hot  = pd.get_dummies(df[categorical])\\n# concatenate one-hot encoded dataframe with original dataframe\\ndf = pd.concat([df, one_hot], axis=1)\\n# drop the original categorical variables\\ndf = df.drop(categorical, axis=1)\\n'"
            ]
          },
          "execution_count": 10,
          "metadata": {},
          "output_type": "execute_result"
        }
      ],
      "source": [
        "\"\"\"\n",
        "#One-hot-encoding para variables categóricas\n",
        "one_hot  = pd.get_dummies(df[categorical])\n",
        "# concatenate one-hot encoded dataframe with original dataframe\n",
        "df = pd.concat([df, one_hot], axis=1)\n",
        "# drop the original categorical variables\n",
        "df = df.drop(categorical, axis=1)\n",
        "\"\"\""
      ]
    },
    {
      "cell_type": "markdown",
      "metadata": {
        "id": "nyx23xwHvK9g"
      },
      "source": [
        "##  **2. Entrenamiento del clasificador**\n",
        "\n",
        "### Conjuntos de entrenamiento, validación y prueba\n",
        "\n",
        "\n",
        "Los conjuntos de entrenamiento, validación y prueba son divisiones de un conjunto de datos utilizadas en el aprendizaje automático.\n",
        "\n",
        "- El conjunto de entrenamiento se utiliza para entrenar un modelo de aprendizaje automático.\n",
        "\n",
        "- El conjunto de validación se utiliza para ajustar los hiperparámetros del modelo y evaluar su rendimiento antes de probarlo con datos nuevos.\n",
        "\n",
        "- El conjunto de prueba se utiliza para evaluar el rendimiento final del modelo después de que se ha ajustado y validado con éxito.\n",
        "\n",
        "La idea es que el modelo se entrena con el conjunto de entrenamiento, se ajusta y se valida con el conjunto de validación, y se prueba finalmente con el conjunto de prueba para obtener una evaluación objetiva del rendimiento del modelo en datos nuevos.\n",
        "\n",
        "![train-val-test split](images/train-val-test-split.png)\n"
      ]
    },
    {
      "cell_type": "code",
      "execution_count": 11,
      "metadata": {
        "id": "abwN6V3mv032"
      },
      "outputs": [],
      "source": [
        "import numpy as np\n",
        "from sklearn.model_selection import train_test_split"
      ]
    },
    {
      "cell_type": "code",
      "execution_count": 12,
      "metadata": {
        "id": "dsz7O4IiAnDc"
      },
      "outputs": [],
      "source": [
        "df.drop('customerid',axis=1,inplace=True)"
      ]
    },
    {
      "cell_type": "code",
      "execution_count": 13,
      "metadata": {
        "id": "jhAVd5HFuxk0"
      },
      "outputs": [],
      "source": [
        "#Separar los datos en entrenamiento, validación y test\n",
        "df_train, df_test = train_test_split(df, test_size=0.2, random_state=1)\n",
        "df_train, df_val = train_test_split(df_train, test_size=0.33, random_state=11)\n",
        "\n",
        "#Eliminar la columna churn de la tabla de características\n",
        "y_train = df_train[\"churn\"].values\n",
        "df_train.drop([\"churn\"],inplace=True,axis = 1)\n",
        "\n",
        "y_val = df_val[\"churn\"].values\n",
        "df_val.drop([\"churn\"],inplace=True,axis = 1)\n",
        "\n",
        "y_test = df_test[\"churn\"].values\n",
        "df_test.drop([\"churn\"],inplace=True,axis = 1)\n"
      ]
    },
    {
      "cell_type": "code",
      "execution_count": 14,
      "metadata": {
        "colab": {
          "base_uri": "https://localhost:8080/"
        },
        "id": "uAa63XZUw-LK",
        "outputId": "ac63e110-d31f-4a14-a6a0-ac357baa0525"
      },
      "outputs": [
        {
          "name": "stdout",
          "output_type": "stream",
          "text": [
            "3774 muestras de entrenamiento\n",
            "1860 muestras de validación\n",
            "1409 muestras de prueba\n"
          ]
        }
      ],
      "source": [
        "print(f\"{df_train.shape[0]} muestras de entrenamiento\")\n",
        "print(f\"{df_val.shape[0]} muestras de validación\")\n",
        "print(f\"{df_test.shape[0]} muestras de prueba\")\n"
      ]
    },
    {
      "cell_type": "markdown",
      "metadata": {
        "id": "SsqnDqRLxW5n"
      },
      "source": [
        "### **Algoritmo de los k vecinos más cercanos**\n",
        "\n",
        "K-Nearest Neighbors (KNN) es un algoritmo de aprendizaje automático supervisado utilizado en la clasificación y regresión de datos.\n",
        "\n",
        "En KNN, se busca encontrar las \"k\" instancias más cercanas a un punto de datos desconocido (el \"vecino más cercano\") y se utiliza la etiqueta o valor de salida de las instancias vecinas para predecir la etiqueta o valor de salida del punto de datos desconocido.\n",
        "\n",
        "Para la clasificación, la etiqueta más común entre las k instancias vecinas se asigna al punto de datos desconocido, mientras que para la regresión, se utiliza la media o la mediana de los valores de salida de las k instancias vecinas.\n",
        "\n",
        "KNN se basa en la suposición de que los puntos de datos similares tienden a tener etiquetas o valores de salida similares. El valor de \"k\" se selecciona a través de la experimentación y el ajuste del modelo y puede tener un gran impacto en la precisión y eficiencia del algoritmo.\n",
        "\n",
        "![KNN](./images/knn-algorithm.jpeg)\n",
        "\n"
      ]
    },
    {
      "cell_type": "markdown",
      "metadata": {
        "id": "kkKp5FaUsD6u"
      },
      "source": [
        "### **One-hot-encoding**\n",
        "One-hot encoding es una técnica utilizada en el procesamiento de datos para convertir datos categóricos en datos numéricos, creando una nueva columna binaria para cada categoría única en la variable categórica original. Esto permite que los algoritmos de aprendizaje automático procesen y analicen mejor los datos categóricos.\n",
        "\n",
        "![one-hot-encoding](./images/one-hot-encoding.png)\n",
        "\n",
        "### **Standard scaler**\n",
        "StandardScaler es una técnica de preprocesamiento utilizada en el aprendizaje automático para escalar variables numéricas. La técnica de escalamiento estándar transforma los datos para que tengan una media cero y una desviación estándar de uno. Esto significa que los datos escalados tienen una distribución normal con una media de cero y una varianza de uno.\n",
        "\n",
        "La estandarización es útil porque muchas técnicas de aprendizaje automático asumen que los datos tienen una distribución normal y pueden ser afectadas negativamente por la escala de las variables. Por ejemplo, en algunos algoritmos, si una variable tiene valores mucho más grandes que otra, esa variable tendrá un mayor impacto en el modelo."
      ]
    },
    {
      "cell_type": "code",
      "execution_count": 15,
      "metadata": {
        "id": "5vPBDmDFy_Fk"
      },
      "outputs": [],
      "source": [
        "from sklearn.neighbors import KNeighborsClassifier\n",
        "from sklearn.pipeline import Pipeline\n",
        "from sklearn.compose import ColumnTransformer\n",
        "from sklearn.preprocessing import StandardScaler, OneHotEncoder"
      ]
    },
    {
      "cell_type": "code",
      "execution_count": 16,
      "metadata": {
        "id": "w17p9FKrBE8m"
      },
      "outputs": [
        {
          "name": "stdout",
          "output_type": "stream",
          "text": [
            "Index(['gender', 'partner', 'dependents', 'phoneservice', 'multiplelines',\n",
            "       'internetservice', 'onlinesecurity', 'onlinebackup', 'deviceprotection',\n",
            "       'techsupport', 'streamingtv', 'streamingmovies', 'contract',\n",
            "       'paperlessbilling', 'paymentmethod'],\n",
            "      dtype='object')\n",
            "Index(['seniorcitizen', 'tenure', 'monthlycharges', 'totalcharges'], dtype='object')\n"
          ]
        }
      ],
      "source": [
        "#Índices de las columnas numéricas y categoricas\n",
        "cat_cols = df_train.select_dtypes(include=object).columns\n",
        "num_cols = df_train.select_dtypes(include=np.number).columns\n",
        "print(cat_cols)\n",
        "print(num_cols)"
      ]
    },
    {
      "cell_type": "code",
      "execution_count": 17,
      "metadata": {
        "id": "RMNxndlg-IZQ"
      },
      "outputs": [
        {
          "name": "stdout",
          "output_type": "stream",
          "text": [
            "ColumnTransformer(transformers=[('num',\n",
            "                                 Pipeline(steps=[('scaler', StandardScaler())]),\n",
            "                                 Index(['seniorcitizen', 'tenure', 'monthlycharges', 'totalcharges'], dtype='object')),\n",
            "                                ('cat',\n",
            "                                 Pipeline(steps=[('encoder',\n",
            "                                                  OneHotEncoder(handle_unknown='ignore'))]),\n",
            "                                 Index(['gender', 'partner', 'dependents', 'phoneservice', 'multiplelines',\n",
            "       'internetservice', 'onlinesecurity', 'onlinebackup', 'deviceprotection',\n",
            "       'techsupport', 'streamingtv', 'streamingmovies', 'contract',\n",
            "       'paperlessbilling', 'paymentmethod'],\n",
            "      dtype='object'))])\n"
          ]
        }
      ],
      "source": [
        "numeric_transformer = Pipeline(\n",
        "    steps=[(\"scaler\", StandardScaler())]\n",
        ")\n",
        "\n",
        "categorical_transformer = Pipeline(\n",
        "    steps=[(\"encoder\", OneHotEncoder(handle_unknown=\"ignore\"))]\n",
        ")\n",
        "\n",
        "preprocessor = ColumnTransformer(\n",
        "    transformers=[\n",
        "        (\"num\", numeric_transformer, num_cols),\n",
        "        (\"cat\", categorical_transformer, cat_cols),\n",
        "    ]\n",
        ")\n",
        "print(preprocessor)"
      ]
    },
    {
      "cell_type": "code",
      "execution_count": 18,
      "metadata": {
        "id": "hiID-_nqxVGf"
      },
      "outputs": [],
      "source": [
        "# Crear un clasificador KNN con diferentes números de vecinos\n",
        "n_neighbors = [1,3,5,7,9,11,13,15]\n",
        "accuracy = []\n",
        "\n",
        "for k in n_neighbors:\n",
        "  clf = Pipeline(steps=[(\"preprocessor\", preprocessor), (\"classifier\", KNeighborsClassifier(n_neighbors=k))])\n",
        "\n",
        "  # Entrenar el clasificador con los datos de entrenamiento\n",
        "  clf.fit(df_train, y_train)\n",
        "\n",
        "  # Evaluar el rendimiento del clasificador en los datos de validación\n",
        "  accuracy.append(clf.score(df_val, y_val))\n"
      ]
    },
    {
      "cell_type": "code",
      "execution_count": 19,
      "metadata": {
        "id": "O-2Bmj0Rzxcj"
      },
      "outputs": [
        {
          "data": {
            "image/png": "[encoded data removed]",
            "text/plain": [
              "<Figure size 640x480 with 1 Axes>"
            ]
          },
          "metadata": {},
          "output_type": "display_data"
        }
      ],
      "source": [
        "gfg = sns.barplot(x = n_neighbors,y = accuracy)\n",
        "gfg.set(xlabel =\"Number of neighbors\", ylabel = \"Accuracy (%)\", title ='k-NN Classification')\n",
        "plt.show()"
      ]
    },
    {
      "cell_type": "code",
      "execution_count": 20,
      "metadata": {
        "id": "BUM5pnec0QeZ"
      },
      "outputs": [
        {
          "name": "stdout",
          "output_type": "stream",
          "text": [
            "El número óptimo de vecinos es 13\n"
          ]
        }
      ],
      "source": [
        "#Re-entrenar el modelo con los datos de entrenamiento y validación para el valor de k óptimo\n",
        "k_opt = n_neighbors[np.argmax(accuracy)]\n",
        "print(f\"El número óptimo de vecinos es {k_opt}\")\n",
        "X_train = pd.concat([df_train,df_val],axis=0)\n",
        "y_train = np.hstack([y_train,y_val])"
      ]
    },
    {
      "cell_type": "code",
      "execution_count": 21,
      "metadata": {
        "colab": {
          "base_uri": "https://localhost:8080/"
        },
        "id": "ParVRbb01_my",
        "outputId": "9d1c3a10-9d04-4b0e-965e-12b5ce4a7176"
      },
      "outputs": [
        {
          "name": "stdout",
          "output_type": "stream",
          "text": [
            "La tasa de acierto de clasificación en el conjunto de test es 0.79\n"
          ]
        }
      ],
      "source": [
        "# Entrenar el clasificador con los datos de entrenamiento\n",
        "clf = Pipeline(steps=[(\"preprocessor\", preprocessor), (\"classifier\", KNeighborsClassifier(n_neighbors=k_opt))])\n",
        "clf.fit(X_train, y_train)\n",
        "#Validar el rendimiento del clasificador con los datos de prueba\n",
        "accuracy = clf.score(df_test, y_test)\n",
        "\n",
        "print(f\"La tasa de acierto de clasificación en el conjunto de test es {accuracy:0.2f}\")"
      ]
    },
    {
      "cell_type": "code",
      "execution_count": 22,
      "metadata": {
        "colab": {
          "base_uri": "https://localhost:8080/"
        },
        "id": "YokVz5TeCAJB",
        "outputId": "7694dd75-3fbf-44dd-dfd0-1e3fc54cd2d9"
      },
      "outputs": [
        {
          "name": "stdout",
          "output_type": "stream",
          "text": [
            "['no']\n",
            "no\n"
          ]
        }
      ],
      "source": [
        "print(clf.predict(df_test.iloc[[0],:]))\n",
        "print(y_test[0])"
      ]
    },
    {
      "cell_type": "code",
      "execution_count": 23,
      "metadata": {
        "id": "DdWbDkfdDkbL"
      },
      "outputs": [
        {
          "name": "stdout",
          "output_type": "stream",
          "text": [
            "      gender  seniorcitizen partner dependents  tenure phoneservice  \\\n",
            "3381  female              0      no         no      41          yes   \n",
            "\n",
            "     multiplelines internetservice onlinesecurity onlinebackup  \\\n",
            "3381            no             dsl            yes           no   \n",
            "\n",
            "     deviceprotection techsupport streamingtv streamingmovies  contract  \\\n",
            "3381              yes         yes         yes             yes  one_year   \n",
            "\n",
            "     paperlessbilling              paymentmethod  monthlycharges  totalcharges  \n",
            "3381              yes  bank_transfer_(automatic)           79.85       3320.75  \n"
          ]
        }
      ],
      "source": [
        "print(df_test.iloc[[0], :])"
      ]
    },
    {
      "cell_type": "code",
      "execution_count": null,
      "metadata": {},
      "outputs": [],
      "source": []
    }
  ],
  "metadata": {
    "colab": {
      "authorship_tag": "ABX9TyNjNmrCXoJOtBRaHQXlyPS8",
      "include_colab_link": true,
      "provenance": []
    },
    "kernelspec": {
      "display_name": ".venv (3.10.12)",
      "language": "python",
      "name": "python3"
    },
    "language_info": {
      "codemirror_mode": {
        "name": "ipython",
        "version": 3
      },
      "file_extension": ".py",
      "mimetype": "text/x-python",
      "name": "python",
      "nbconvert_exporter": "python",
      "pygments_lexer": "ipython3",
      "version": "3.10.12"
    }
  },
  "nbformat": 4,
  "nbformat_minor": 0
}
