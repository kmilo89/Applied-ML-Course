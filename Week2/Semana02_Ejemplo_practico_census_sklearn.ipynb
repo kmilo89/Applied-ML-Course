{
  "cells": [
    {
      "cell_type": "markdown",
      "metadata": {
        "id": "s8rVHzjlKQc_"
      },
      "source": [
        "# Preprocesamiento de Datos - Ejemplo Práctico"
      ]
    },
    {
      "cell_type": "markdown",
      "metadata": {
        "id": "QnEMEIWNKQdC"
      },
      "source": [
        "En esta demostración se preprocesará un conjunto de datos de población estadounidense. Los datos utilizados son un subconjunto modificado de [este set de datos](https://archive.ics.uci.edu/ml/datasets/Adult) y se encuentran en el archivo `census.csv`."
      ]
    },
    {
      "cell_type": "code",
      "execution_count": 1,
      "metadata": {
        "id": "yc1OaWNSKQdC"
      },
      "outputs": [],
      "source": [
        "import pandas as pd\n",
        "from sklearn.compose import ColumnTransformer\n",
        "from sklearn.pipeline import Pipeline\n",
        "from sklearn.impute import SimpleImputer\n",
        "from sklearn.preprocessing import StandardScaler, OneHotEncoder, OrdinalEncoder"
      ]
    },
    {
      "cell_type": "code",
      "execution_count": 2,
      "metadata": {
        "id": "TVugcGmeKQdD"
      },
      "outputs": [],
      "source": [
        "# Importemos los datos:\n",
        "data = pd.read_csv('census.csv', header = 0)"
      ]
    },
    {
      "cell_type": "code",
      "execution_count": 3,
      "metadata": {
        "colab": {
          "base_uri": "https://localhost:8080/",
          "height": 545
        },
        "id": "nhDjnE2VKQdE",
        "outputId": "c62d6038-2039-4db0-f3ee-0db1b357baf8"
      },
      "outputs": [
        {
          "data": {
            "text/html": [
              "<div>\n",
              "<style scoped>\n",
              "    .dataframe tbody tr th:only-of-type {\n",
              "        vertical-align: middle;\n",
              "    }\n",
              "\n",
              "    .dataframe tbody tr th {\n",
              "        vertical-align: top;\n",
              "    }\n",
              "\n",
              "    .dataframe thead th {\n",
              "        text-align: right;\n",
              "    }\n",
              "</style>\n",
              "<table border=\"1\" class=\"dataframe\">\n",
              "  <thead>\n",
              "    <tr style=\"text-align: right;\">\n",
              "      <th></th>\n",
              "      <th>age</th>\n",
              "      <th>workclass</th>\n",
              "      <th>education</th>\n",
              "      <th>race</th>\n",
              "      <th>sex</th>\n",
              "      <th>hours_per_week</th>\n",
              "      <th>USA_born</th>\n",
              "      <th>label</th>\n",
              "    </tr>\n",
              "  </thead>\n",
              "  <tbody>\n",
              "    <tr>\n",
              "      <th>0</th>\n",
              "      <td>39.0</td>\n",
              "      <td>State-gov</td>\n",
              "      <td>Bachelors</td>\n",
              "      <td>White</td>\n",
              "      <td>Male</td>\n",
              "      <td>40.0</td>\n",
              "      <td>1.0</td>\n",
              "      <td>&lt;=50K</td>\n",
              "    </tr>\n",
              "    <tr>\n",
              "      <th>1</th>\n",
              "      <td>50.0</td>\n",
              "      <td>Self-emp-not-inc</td>\n",
              "      <td>Bachelors</td>\n",
              "      <td>White</td>\n",
              "      <td>Male</td>\n",
              "      <td>13.0</td>\n",
              "      <td>1.0</td>\n",
              "      <td>&lt;=50K</td>\n",
              "    </tr>\n",
              "    <tr>\n",
              "      <th>2</th>\n",
              "      <td>38.0</td>\n",
              "      <td>Private</td>\n",
              "      <td>High-school</td>\n",
              "      <td>White</td>\n",
              "      <td>Male</td>\n",
              "      <td>40.0</td>\n",
              "      <td>1.0</td>\n",
              "      <td>&lt;=50K</td>\n",
              "    </tr>\n",
              "    <tr>\n",
              "      <th>3</th>\n",
              "      <td>53.0</td>\n",
              "      <td>Private</td>\n",
              "      <td>Some-high-school</td>\n",
              "      <td>Black</td>\n",
              "      <td>Male</td>\n",
              "      <td>40.0</td>\n",
              "      <td>1.0</td>\n",
              "      <td>&lt;=50K</td>\n",
              "    </tr>\n",
              "    <tr>\n",
              "      <th>4</th>\n",
              "      <td>28.0</td>\n",
              "      <td>Private</td>\n",
              "      <td>Bachelors</td>\n",
              "      <td>Black</td>\n",
              "      <td>Female</td>\n",
              "      <td>40.0</td>\n",
              "      <td>0.0</td>\n",
              "      <td>&lt;=50K</td>\n",
              "    </tr>\n",
              "    <tr>\n",
              "      <th>...</th>\n",
              "      <td>...</td>\n",
              "      <td>...</td>\n",
              "      <td>...</td>\n",
              "      <td>...</td>\n",
              "      <td>...</td>\n",
              "      <td>...</td>\n",
              "      <td>...</td>\n",
              "      <td>...</td>\n",
              "    </tr>\n",
              "    <tr>\n",
              "      <th>41711</th>\n",
              "      <td>33.0</td>\n",
              "      <td>Private</td>\n",
              "      <td>Bachelors</td>\n",
              "      <td>White</td>\n",
              "      <td>Male</td>\n",
              "      <td>40.0</td>\n",
              "      <td>1.0</td>\n",
              "      <td>&lt;=50K</td>\n",
              "    </tr>\n",
              "    <tr>\n",
              "      <th>41712</th>\n",
              "      <td>39.0</td>\n",
              "      <td>Private</td>\n",
              "      <td>Bachelors</td>\n",
              "      <td>White</td>\n",
              "      <td>Female</td>\n",
              "      <td>36.0</td>\n",
              "      <td>1.0</td>\n",
              "      <td>&lt;=50K</td>\n",
              "    </tr>\n",
              "    <tr>\n",
              "      <th>41713</th>\n",
              "      <td>38.0</td>\n",
              "      <td>Private</td>\n",
              "      <td>Bachelors</td>\n",
              "      <td>White</td>\n",
              "      <td>Male</td>\n",
              "      <td>50.0</td>\n",
              "      <td>1.0</td>\n",
              "      <td>&lt;=50K</td>\n",
              "    </tr>\n",
              "    <tr>\n",
              "      <th>41714</th>\n",
              "      <td>44.0</td>\n",
              "      <td>Private</td>\n",
              "      <td>Bachelors</td>\n",
              "      <td>Asian-Pac-Islander</td>\n",
              "      <td>Male</td>\n",
              "      <td>40.0</td>\n",
              "      <td>1.0</td>\n",
              "      <td>&lt;=50K</td>\n",
              "    </tr>\n",
              "    <tr>\n",
              "      <th>41715</th>\n",
              "      <td>35.0</td>\n",
              "      <td>Self-emp-inc</td>\n",
              "      <td>Bachelors</td>\n",
              "      <td>White</td>\n",
              "      <td>Male</td>\n",
              "      <td>60.0</td>\n",
              "      <td>1.0</td>\n",
              "      <td>&gt;50K</td>\n",
              "    </tr>\n",
              "  </tbody>\n",
              "</table>\n",
              "<p>41716 rows × 8 columns</p>\n",
              "</div>"
            ],
            "text/plain": [
              "        age         workclass         education                race     sex  \\\n",
              "0      39.0         State-gov         Bachelors               White    Male   \n",
              "1      50.0  Self-emp-not-inc         Bachelors               White    Male   \n",
              "2      38.0           Private       High-school               White    Male   \n",
              "3      53.0           Private  Some-high-school               Black    Male   \n",
              "4      28.0           Private         Bachelors               Black  Female   \n",
              "...     ...               ...               ...                 ...     ...   \n",
              "41711  33.0           Private         Bachelors               White    Male   \n",
              "41712  39.0           Private         Bachelors               White  Female   \n",
              "41713  38.0           Private         Bachelors               White    Male   \n",
              "41714  44.0           Private         Bachelors  Asian-Pac-Islander    Male   \n",
              "41715  35.0      Self-emp-inc         Bachelors               White    Male   \n",
              "\n",
              "       hours_per_week  USA_born  label  \n",
              "0                40.0       1.0  <=50K  \n",
              "1                13.0       1.0  <=50K  \n",
              "2                40.0       1.0  <=50K  \n",
              "3                40.0       1.0  <=50K  \n",
              "4                40.0       0.0  <=50K  \n",
              "...               ...       ...    ...  \n",
              "41711            40.0       1.0  <=50K  \n",
              "41712            36.0       1.0  <=50K  \n",
              "41713            50.0       1.0  <=50K  \n",
              "41714            40.0       1.0  <=50K  \n",
              "41715            60.0       1.0   >50K  \n",
              "\n",
              "[41716 rows x 8 columns]"
            ]
          },
          "execution_count": 3,
          "metadata": {},
          "output_type": "execute_result"
        }
      ],
      "source": [
        "# Veamos el dataset:\n",
        "data"
      ]
    },
    {
      "cell_type": "code",
      "execution_count": 4,
      "metadata": {
        "colab": {
          "base_uri": "https://localhost:8080/",
          "height": 431
        },
        "id": "TtkP_GdhKQdF",
        "outputId": "dfff69a9-6928-49fd-81d1-4f73ddff8b78"
      },
      "outputs": [
        {
          "data": {
            "text/html": [
              "<div>\n",
              "<style scoped>\n",
              "    .dataframe tbody tr th:only-of-type {\n",
              "        vertical-align: middle;\n",
              "    }\n",
              "\n",
              "    .dataframe tbody tr th {\n",
              "        vertical-align: top;\n",
              "    }\n",
              "\n",
              "    .dataframe thead th {\n",
              "        text-align: right;\n",
              "    }\n",
              "</style>\n",
              "<table border=\"1\" class=\"dataframe\">\n",
              "  <thead>\n",
              "    <tr style=\"text-align: right;\">\n",
              "      <th></th>\n",
              "      <th>age</th>\n",
              "      <th>workclass</th>\n",
              "      <th>education</th>\n",
              "      <th>race</th>\n",
              "      <th>sex</th>\n",
              "      <th>hours_per_week</th>\n",
              "      <th>USA_born</th>\n",
              "      <th>label</th>\n",
              "    </tr>\n",
              "  </thead>\n",
              "  <tbody>\n",
              "    <tr>\n",
              "      <th>count</th>\n",
              "      <td>41617.000000</td>\n",
              "      <td>41705</td>\n",
              "      <td>41702</td>\n",
              "      <td>41700</td>\n",
              "      <td>41701</td>\n",
              "      <td>41631.000000</td>\n",
              "      <td>41701.000000</td>\n",
              "      <td>41716</td>\n",
              "    </tr>\n",
              "    <tr>\n",
              "      <th>unique</th>\n",
              "      <td>NaN</td>\n",
              "      <td>7</td>\n",
              "      <td>10</td>\n",
              "      <td>5</td>\n",
              "      <td>2</td>\n",
              "      <td>NaN</td>\n",
              "      <td>NaN</td>\n",
              "      <td>2</td>\n",
              "    </tr>\n",
              "    <tr>\n",
              "      <th>top</th>\n",
              "      <td>NaN</td>\n",
              "      <td>Private</td>\n",
              "      <td>High-school</td>\n",
              "      <td>White</td>\n",
              "      <td>Male</td>\n",
              "      <td>NaN</td>\n",
              "      <td>NaN</td>\n",
              "      <td>&lt;=50K</td>\n",
              "    </tr>\n",
              "    <tr>\n",
              "      <th>freq</th>\n",
              "      <td>NaN</td>\n",
              "      <td>30962</td>\n",
              "      <td>14969</td>\n",
              "      <td>35670</td>\n",
              "      <td>28191</td>\n",
              "      <td>NaN</td>\n",
              "      <td>NaN</td>\n",
              "      <td>31813</td>\n",
              "    </tr>\n",
              "    <tr>\n",
              "      <th>mean</th>\n",
              "      <td>38.476608</td>\n",
              "      <td>NaN</td>\n",
              "      <td>NaN</td>\n",
              "      <td>NaN</td>\n",
              "      <td>NaN</td>\n",
              "      <td>40.743220</td>\n",
              "      <td>0.895062</td>\n",
              "      <td>NaN</td>\n",
              "    </tr>\n",
              "    <tr>\n",
              "      <th>std</th>\n",
              "      <td>13.365972</td>\n",
              "      <td>NaN</td>\n",
              "      <td>NaN</td>\n",
              "      <td>NaN</td>\n",
              "      <td>NaN</td>\n",
              "      <td>12.000085</td>\n",
              "      <td>0.306477</td>\n",
              "      <td>NaN</td>\n",
              "    </tr>\n",
              "    <tr>\n",
              "      <th>min</th>\n",
              "      <td>17.000000</td>\n",
              "      <td>NaN</td>\n",
              "      <td>NaN</td>\n",
              "      <td>NaN</td>\n",
              "      <td>NaN</td>\n",
              "      <td>1.000000</td>\n",
              "      <td>0.000000</td>\n",
              "      <td>NaN</td>\n",
              "    </tr>\n",
              "    <tr>\n",
              "      <th>25%</th>\n",
              "      <td>28.000000</td>\n",
              "      <td>NaN</td>\n",
              "      <td>NaN</td>\n",
              "      <td>NaN</td>\n",
              "      <td>NaN</td>\n",
              "      <td>40.000000</td>\n",
              "      <td>1.000000</td>\n",
              "      <td>NaN</td>\n",
              "    </tr>\n",
              "    <tr>\n",
              "      <th>50%</th>\n",
              "      <td>37.000000</td>\n",
              "      <td>NaN</td>\n",
              "      <td>NaN</td>\n",
              "      <td>NaN</td>\n",
              "      <td>NaN</td>\n",
              "      <td>40.000000</td>\n",
              "      <td>1.000000</td>\n",
              "      <td>NaN</td>\n",
              "    </tr>\n",
              "    <tr>\n",
              "      <th>75%</th>\n",
              "      <td>47.000000</td>\n",
              "      <td>NaN</td>\n",
              "      <td>NaN</td>\n",
              "      <td>NaN</td>\n",
              "      <td>NaN</td>\n",
              "      <td>45.000000</td>\n",
              "      <td>1.000000</td>\n",
              "      <td>NaN</td>\n",
              "    </tr>\n",
              "    <tr>\n",
              "      <th>max</th>\n",
              "      <td>90.000000</td>\n",
              "      <td>NaN</td>\n",
              "      <td>NaN</td>\n",
              "      <td>NaN</td>\n",
              "      <td>NaN</td>\n",
              "      <td>99.000000</td>\n",
              "      <td>1.000000</td>\n",
              "      <td>NaN</td>\n",
              "    </tr>\n",
              "  </tbody>\n",
              "</table>\n",
              "</div>"
            ],
            "text/plain": [
              "                 age workclass    education   race    sex  hours_per_week  \\\n",
              "count   41617.000000     41705        41702  41700  41701    41631.000000   \n",
              "unique           NaN         7           10      5      2             NaN   \n",
              "top              NaN   Private  High-school  White   Male             NaN   \n",
              "freq             NaN     30962        14969  35670  28191             NaN   \n",
              "mean       38.476608       NaN          NaN    NaN    NaN       40.743220   \n",
              "std        13.365972       NaN          NaN    NaN    NaN       12.000085   \n",
              "min        17.000000       NaN          NaN    NaN    NaN        1.000000   \n",
              "25%        28.000000       NaN          NaN    NaN    NaN       40.000000   \n",
              "50%        37.000000       NaN          NaN    NaN    NaN       40.000000   \n",
              "75%        47.000000       NaN          NaN    NaN    NaN       45.000000   \n",
              "max        90.000000       NaN          NaN    NaN    NaN       99.000000   \n",
              "\n",
              "            USA_born  label  \n",
              "count   41701.000000  41716  \n",
              "unique           NaN      2  \n",
              "top              NaN  <=50K  \n",
              "freq             NaN  31813  \n",
              "mean        0.895062    NaN  \n",
              "std         0.306477    NaN  \n",
              "min         0.000000    NaN  \n",
              "25%         1.000000    NaN  \n",
              "50%         1.000000    NaN  \n",
              "75%         1.000000    NaN  \n",
              "max         1.000000    NaN  "
            ]
          },
          "execution_count": 4,
          "metadata": {},
          "output_type": "execute_result"
        }
      ],
      "source": [
        "# Descripción de las columnas:\n",
        "data.describe(include='all')"
      ]
    },
    {
      "cell_type": "code",
      "execution_count": 5,
      "metadata": {
        "id": "kxyR4ua4OIUa"
      },
      "outputs": [],
      "source": [
        "data['USA_born'] = data['USA_born'].astype('category')"
      ]
    },
    {
      "cell_type": "code",
      "execution_count": 7,
      "metadata": {
        "colab": {
          "base_uri": "https://localhost:8080/"
        },
        "id": "COLu_C0w_bSo",
        "outputId": "a52fcae9-660c-4cdd-acd4-ec54e0e569a6"
      },
      "outputs": [
        {
          "data": {
            "text/plain": [
              "array(['Bachelors', 'High-school', 'Some-high-school', 'Masters',\n",
              "       'Some-college', 'Middle-school', 'Doctorate', 'Some-middle-school',\n",
              "       'Preschool', 'Elementary-school', nan], dtype=object)"
            ]
          },
          "execution_count": 7,
          "metadata": {},
          "output_type": "execute_result"
        }
      ],
      "source": [
        "data['education'].unique()"
      ]
    },
    {
      "cell_type": "code",
      "execution_count": 8,
      "metadata": {
        "colab": {
          "base_uri": "https://localhost:8080/"
        },
        "id": "F52oYL-0KQdF",
        "outputId": "90e3c209-4b61-44e5-de8e-a42b8a3b1746"
      },
      "outputs": [
        {
          "data": {
            "text/plain": [
              "age               99\n",
              "workclass         11\n",
              "education         14\n",
              "race              16\n",
              "sex               15\n",
              "hours_per_week    85\n",
              "USA_born          15\n",
              "label              0\n",
              "dtype: int64"
            ]
          },
          "execution_count": 8,
          "metadata": {},
          "output_type": "execute_result"
        }
      ],
      "source": [
        "# Verifiquemos si hay datos faltantes:\n",
        "data.isna().sum()"
      ]
    },
    {
      "cell_type": "code",
      "execution_count": 9,
      "metadata": {
        "id": "oELVryAFKQdG"
      },
      "outputs": [],
      "source": [
        "# Descartemos las columnas que tengan más del 20% de datos faltantes:\n",
        "\n",
        "# Paso 1: Calcular eñ número total de filas\n",
        "total_rows = len(data)\n",
        "\n",
        "# Paso 2: Contar el número de valores faltantes en cada columna\n",
        "missing_counts = data.isna().sum()\n",
        "\n",
        "# Paso 3: Calcular el porcentaje de datos faltantes en cada columna\n",
        "missing_percentage = (missing_counts / total_rows) * 100\n",
        "\n",
        "# Paso 4: Filtrar las columnas con más del 20% de datos faltantes\n",
        "columns_to_keep = missing_percentage[missing_percentage <= 20].index\n",
        "data_filtered = data[columns_to_keep]\n",
        "\n",
        "#Solo por facilidad\n",
        "data = data_filtered.copy()"
      ]
    },
    {
      "cell_type": "code",
      "execution_count": 10,
      "metadata": {
        "colab": {
          "base_uri": "https://localhost:8080/"
        },
        "id": "fYX1P-_hMTHT",
        "outputId": "a43ef420-a4af-4f3f-dbac-b009a6069b90"
      },
      "outputs": [
        {
          "data": {
            "text/plain": [
              "Index(['age', 'workclass', 'education', 'race', 'sex', 'hours_per_week',\n",
              "       'USA_born', 'label'],\n",
              "      dtype='object')"
            ]
          },
          "execution_count": 10,
          "metadata": {},
          "output_type": "execute_result"
        }
      ],
      "source": [
        "columns_to_keep"
      ]
    },
    {
      "cell_type": "markdown",
      "metadata": {
        "id": "EQzB-P5BNGuw"
      },
      "source": [
        "## Pipeline de sklearn\n",
        "\n",
        "- Crearemos un Pipeline con las siguientes etapas:\n",
        "\n",
        "1. Identificar los tipos de columnas\n",
        "2."
      ]
    },
    {
      "cell_type": "code",
      "execution_count": 11,
      "metadata": {
        "colab": {
          "base_uri": "https://localhost:8080/"
        },
        "id": "jMjy5fXPKQdH",
        "outputId": "cd4ff9ad-afb4-4b98-b42e-86c8cef23555"
      },
      "outputs": [
        {
          "name": "stdout",
          "output_type": "stream",
          "text": [
            "Index(['age', 'hours_per_week'], dtype='object')\n",
            "Index(['workclass', 'education', 'race', 'sex', 'USA_born', 'label'], dtype='object')\n"
          ]
        }
      ],
      "source": [
        "# Pipeline Paso 1: Identificar los tipos de columnas\n",
        "numerical_cols = data.select_dtypes(include=['int64', 'float64']).columns\n",
        "categorical_cols = data.select_dtypes(include=['object', 'category']).columns\n",
        "\n",
        "print(numerical_cols)\n",
        "print(categorical_cols)"
      ]
    },
    {
      "cell_type": "code",
      "execution_count": 12,
      "metadata": {
        "id": "bGI3JuDxKQdH"
      },
      "outputs": [],
      "source": [
        "# Pipeline Paso 2: Defina las etapas del pre-procesamiento\n",
        "# Para datos numéricos\n",
        "numerical_transformer = Pipeline(steps=[\n",
        "    ('imputer', SimpleImputer(strategy='mean')), # or median, etc.\n",
        "    ('scaler', StandardScaler())\n",
        "])\n",
        "\n",
        "# Para datos categóricos\n",
        "categorical_transformer = ColumnTransformer(\n",
        "    transformers=[\n",
        "        ('onehotwk', OneHotEncoder(), ['workclass','race']),  # Apply OneHotEncoder to 'workclass'\n",
        "        ('ordinal', OrdinalEncoder(), ['education', 'sex', 'label'])  # Apply OrdinalEncoder to these columns\n",
        "    ])"
      ]
    },
    {
      "cell_type": "code",
      "execution_count": 13,
      "metadata": {
        "id": "TbzSG1z2Rdut"
      },
      "outputs": [],
      "source": [
        "#Pipeline Paso 3: Crear el ColumnTransformer\n",
        "# Step 3: Create the ColumnTransformer\n",
        "preprocessor = ColumnTransformer(\n",
        "    transformers=[\n",
        "        ('num', numerical_transformer, numerical_cols),\n",
        "        ('cat', categorical_transformer, categorical_cols)\n",
        "    ])"
      ]
    },
    {
      "cell_type": "code",
      "execution_count": 14,
      "metadata": {
        "id": "UZzAWWHnRpSb"
      },
      "outputs": [],
      "source": [
        "#Pipeline Paso 4: Crear el Pipeline de procesamiento de datos\n",
        "pipeline = Pipeline(steps=[('preprocessor', preprocessor)])"
      ]
    },
    {
      "cell_type": "code",
      "execution_count": 15,
      "metadata": {
        "id": "sGnmBtMhR1U7"
      },
      "outputs": [],
      "source": [
        "# Paso 5: Transformar los datos\n",
        "pipeline.fit(data)\n",
        "transformed_data = pipeline.transform(data)"
      ]
    },
    {
      "cell_type": "code",
      "execution_count": 16,
      "metadata": {
        "colab": {
          "base_uri": "https://localhost:8080/"
        },
        "id": "yuxf-t-zSJ_j",
        "outputId": "12927aa2-75fc-4fd7-aba6-3a13cfa66515"
      },
      "outputs": [
        {
          "data": {
            "text/plain": [
              "array([[ 0.03920555, -0.06199852,  0.        , ...,  0.        ,\n",
              "         1.        ,  0.        ],\n",
              "       [ 0.86317916, -2.31430539,  0.        , ...,  0.        ,\n",
              "         1.        ,  0.        ],\n",
              "       [-0.03570114, -0.06199852,  0.        , ...,  3.        ,\n",
              "         1.        ,  0.        ],\n",
              "       ...,\n",
              "       [-0.03570114,  0.77218921,  0.        , ...,  0.        ,\n",
              "         1.        ,  0.        ],\n",
              "       [ 0.41373901, -0.06199852,  0.        , ...,  0.        ,\n",
              "         1.        ,  0.        ],\n",
              "       [-0.26042121,  1.60637695,  0.        , ...,  0.        ,\n",
              "         1.        ,  1.        ]])"
            ]
          },
          "execution_count": 16,
          "metadata": {},
          "output_type": "execute_result"
        }
      ],
      "source": [
        "transformed_data"
      ]
    },
    {
      "cell_type": "code",
      "execution_count": 17,
      "metadata": {
        "id": "sMRU3qrKKQdK"
      },
      "outputs": [
        {
          "data": {
            "text/html": [
              "<div>\n",
              "<style scoped>\n",
              "    .dataframe tbody tr th:only-of-type {\n",
              "        vertical-align: middle;\n",
              "    }\n",
              "\n",
              "    .dataframe tbody tr th {\n",
              "        vertical-align: top;\n",
              "    }\n",
              "\n",
              "    .dataframe thead th {\n",
              "        text-align: right;\n",
              "    }\n",
              "</style>\n",
              "<table border=\"1\" class=\"dataframe\">\n",
              "  <thead>\n",
              "    <tr style=\"text-align: right;\">\n",
              "      <th></th>\n",
              "      <th>age</th>\n",
              "      <th>workclass</th>\n",
              "      <th>education</th>\n",
              "      <th>race</th>\n",
              "      <th>sex</th>\n",
              "      <th>hours_per_week</th>\n",
              "      <th>USA_born</th>\n",
              "      <th>label</th>\n",
              "    </tr>\n",
              "  </thead>\n",
              "  <tbody>\n",
              "    <tr>\n",
              "      <th>0</th>\n",
              "      <td>39.0</td>\n",
              "      <td>State-gov</td>\n",
              "      <td>Bachelors</td>\n",
              "      <td>White</td>\n",
              "      <td>Male</td>\n",
              "      <td>40.0</td>\n",
              "      <td>1.0</td>\n",
              "      <td>&lt;=50K</td>\n",
              "    </tr>\n",
              "    <tr>\n",
              "      <th>1</th>\n",
              "      <td>50.0</td>\n",
              "      <td>Self-emp-not-inc</td>\n",
              "      <td>Bachelors</td>\n",
              "      <td>White</td>\n",
              "      <td>Male</td>\n",
              "      <td>13.0</td>\n",
              "      <td>1.0</td>\n",
              "      <td>&lt;=50K</td>\n",
              "    </tr>\n",
              "    <tr>\n",
              "      <th>2</th>\n",
              "      <td>38.0</td>\n",
              "      <td>Private</td>\n",
              "      <td>High-school</td>\n",
              "      <td>White</td>\n",
              "      <td>Male</td>\n",
              "      <td>40.0</td>\n",
              "      <td>1.0</td>\n",
              "      <td>&lt;=50K</td>\n",
              "    </tr>\n",
              "    <tr>\n",
              "      <th>3</th>\n",
              "      <td>53.0</td>\n",
              "      <td>Private</td>\n",
              "      <td>Some-high-school</td>\n",
              "      <td>Black</td>\n",
              "      <td>Male</td>\n",
              "      <td>40.0</td>\n",
              "      <td>1.0</td>\n",
              "      <td>&lt;=50K</td>\n",
              "    </tr>\n",
              "    <tr>\n",
              "      <th>4</th>\n",
              "      <td>28.0</td>\n",
              "      <td>Private</td>\n",
              "      <td>Bachelors</td>\n",
              "      <td>Black</td>\n",
              "      <td>Female</td>\n",
              "      <td>40.0</td>\n",
              "      <td>0.0</td>\n",
              "      <td>&lt;=50K</td>\n",
              "    </tr>\n",
              "    <tr>\n",
              "      <th>...</th>\n",
              "      <td>...</td>\n",
              "      <td>...</td>\n",
              "      <td>...</td>\n",
              "      <td>...</td>\n",
              "      <td>...</td>\n",
              "      <td>...</td>\n",
              "      <td>...</td>\n",
              "      <td>...</td>\n",
              "    </tr>\n",
              "    <tr>\n",
              "      <th>41711</th>\n",
              "      <td>33.0</td>\n",
              "      <td>Private</td>\n",
              "      <td>Bachelors</td>\n",
              "      <td>White</td>\n",
              "      <td>Male</td>\n",
              "      <td>40.0</td>\n",
              "      <td>1.0</td>\n",
              "      <td>&lt;=50K</td>\n",
              "    </tr>\n",
              "    <tr>\n",
              "      <th>41712</th>\n",
              "      <td>39.0</td>\n",
              "      <td>Private</td>\n",
              "      <td>Bachelors</td>\n",
              "      <td>White</td>\n",
              "      <td>Female</td>\n",
              "      <td>36.0</td>\n",
              "      <td>1.0</td>\n",
              "      <td>&lt;=50K</td>\n",
              "    </tr>\n",
              "    <tr>\n",
              "      <th>41713</th>\n",
              "      <td>38.0</td>\n",
              "      <td>Private</td>\n",
              "      <td>Bachelors</td>\n",
              "      <td>White</td>\n",
              "      <td>Male</td>\n",
              "      <td>50.0</td>\n",
              "      <td>1.0</td>\n",
              "      <td>&lt;=50K</td>\n",
              "    </tr>\n",
              "    <tr>\n",
              "      <th>41714</th>\n",
              "      <td>44.0</td>\n",
              "      <td>Private</td>\n",
              "      <td>Bachelors</td>\n",
              "      <td>Asian-Pac-Islander</td>\n",
              "      <td>Male</td>\n",
              "      <td>40.0</td>\n",
              "      <td>1.0</td>\n",
              "      <td>&lt;=50K</td>\n",
              "    </tr>\n",
              "    <tr>\n",
              "      <th>41715</th>\n",
              "      <td>35.0</td>\n",
              "      <td>Self-emp-inc</td>\n",
              "      <td>Bachelors</td>\n",
              "      <td>White</td>\n",
              "      <td>Male</td>\n",
              "      <td>60.0</td>\n",
              "      <td>1.0</td>\n",
              "      <td>&gt;50K</td>\n",
              "    </tr>\n",
              "  </tbody>\n",
              "</table>\n",
              "<p>41716 rows × 8 columns</p>\n",
              "</div>"
            ],
            "text/plain": [
              "        age         workclass         education                race     sex  \\\n",
              "0      39.0         State-gov         Bachelors               White    Male   \n",
              "1      50.0  Self-emp-not-inc         Bachelors               White    Male   \n",
              "2      38.0           Private       High-school               White    Male   \n",
              "3      53.0           Private  Some-high-school               Black    Male   \n",
              "4      28.0           Private         Bachelors               Black  Female   \n",
              "...     ...               ...               ...                 ...     ...   \n",
              "41711  33.0           Private         Bachelors               White    Male   \n",
              "41712  39.0           Private         Bachelors               White  Female   \n",
              "41713  38.0           Private         Bachelors               White    Male   \n",
              "41714  44.0           Private         Bachelors  Asian-Pac-Islander    Male   \n",
              "41715  35.0      Self-emp-inc         Bachelors               White    Male   \n",
              "\n",
              "       hours_per_week USA_born  label  \n",
              "0                40.0      1.0  <=50K  \n",
              "1                13.0      1.0  <=50K  \n",
              "2                40.0      1.0  <=50K  \n",
              "3                40.0      1.0  <=50K  \n",
              "4                40.0      0.0  <=50K  \n",
              "...               ...      ...    ...  \n",
              "41711            40.0      1.0  <=50K  \n",
              "41712            36.0      1.0  <=50K  \n",
              "41713            50.0      1.0  <=50K  \n",
              "41714            40.0      1.0  <=50K  \n",
              "41715            60.0      1.0   >50K  \n",
              "\n",
              "[41716 rows x 8 columns]"
            ]
          },
          "execution_count": 17,
          "metadata": {},
          "output_type": "execute_result"
        }
      ],
      "source": [
        "# Veamos el dataset resultante:\n",
        "data\n"
      ]
    },
    {
      "cell_type": "code",
      "execution_count": 19,
      "metadata": {
        "id": "ObK6H67oKQdK"
      },
      "outputs": [
        {
          "data": {
            "text/html": [
              "<div>\n",
              "<style scoped>\n",
              "    .dataframe tbody tr th:only-of-type {\n",
              "        vertical-align: middle;\n",
              "    }\n",
              "\n",
              "    .dataframe tbody tr th {\n",
              "        vertical-align: top;\n",
              "    }\n",
              "\n",
              "    .dataframe thead th {\n",
              "        text-align: right;\n",
              "    }\n",
              "</style>\n",
              "<table border=\"1\" class=\"dataframe\">\n",
              "  <thead>\n",
              "    <tr style=\"text-align: right;\">\n",
              "      <th></th>\n",
              "      <th>age</th>\n",
              "      <th>workclass</th>\n",
              "      <th>education</th>\n",
              "      <th>race</th>\n",
              "      <th>sex</th>\n",
              "      <th>hours_per_week</th>\n",
              "      <th>USA_born</th>\n",
              "      <th>label</th>\n",
              "    </tr>\n",
              "  </thead>\n",
              "  <tbody>\n",
              "    <tr>\n",
              "      <th>count</th>\n",
              "      <td>41617.000000</td>\n",
              "      <td>41705</td>\n",
              "      <td>41702</td>\n",
              "      <td>41700</td>\n",
              "      <td>41701</td>\n",
              "      <td>41631.000000</td>\n",
              "      <td>41701.0</td>\n",
              "      <td>41716</td>\n",
              "    </tr>\n",
              "    <tr>\n",
              "      <th>unique</th>\n",
              "      <td>NaN</td>\n",
              "      <td>7</td>\n",
              "      <td>10</td>\n",
              "      <td>5</td>\n",
              "      <td>2</td>\n",
              "      <td>NaN</td>\n",
              "      <td>2.0</td>\n",
              "      <td>2</td>\n",
              "    </tr>\n",
              "    <tr>\n",
              "      <th>top</th>\n",
              "      <td>NaN</td>\n",
              "      <td>Private</td>\n",
              "      <td>High-school</td>\n",
              "      <td>White</td>\n",
              "      <td>Male</td>\n",
              "      <td>NaN</td>\n",
              "      <td>1.0</td>\n",
              "      <td>&lt;=50K</td>\n",
              "    </tr>\n",
              "    <tr>\n",
              "      <th>freq</th>\n",
              "      <td>NaN</td>\n",
              "      <td>30962</td>\n",
              "      <td>14969</td>\n",
              "      <td>35670</td>\n",
              "      <td>28191</td>\n",
              "      <td>NaN</td>\n",
              "      <td>37325.0</td>\n",
              "      <td>31813</td>\n",
              "    </tr>\n",
              "    <tr>\n",
              "      <th>mean</th>\n",
              "      <td>38.476608</td>\n",
              "      <td>NaN</td>\n",
              "      <td>NaN</td>\n",
              "      <td>NaN</td>\n",
              "      <td>NaN</td>\n",
              "      <td>40.743220</td>\n",
              "      <td>NaN</td>\n",
              "      <td>NaN</td>\n",
              "    </tr>\n",
              "    <tr>\n",
              "      <th>std</th>\n",
              "      <td>13.365972</td>\n",
              "      <td>NaN</td>\n",
              "      <td>NaN</td>\n",
              "      <td>NaN</td>\n",
              "      <td>NaN</td>\n",
              "      <td>12.000085</td>\n",
              "      <td>NaN</td>\n",
              "      <td>NaN</td>\n",
              "    </tr>\n",
              "    <tr>\n",
              "      <th>min</th>\n",
              "      <td>17.000000</td>\n",
              "      <td>NaN</td>\n",
              "      <td>NaN</td>\n",
              "      <td>NaN</td>\n",
              "      <td>NaN</td>\n",
              "      <td>1.000000</td>\n",
              "      <td>NaN</td>\n",
              "      <td>NaN</td>\n",
              "    </tr>\n",
              "    <tr>\n",
              "      <th>25%</th>\n",
              "      <td>28.000000</td>\n",
              "      <td>NaN</td>\n",
              "      <td>NaN</td>\n",
              "      <td>NaN</td>\n",
              "      <td>NaN</td>\n",
              "      <td>40.000000</td>\n",
              "      <td>NaN</td>\n",
              "      <td>NaN</td>\n",
              "    </tr>\n",
              "    <tr>\n",
              "      <th>50%</th>\n",
              "      <td>37.000000</td>\n",
              "      <td>NaN</td>\n",
              "      <td>NaN</td>\n",
              "      <td>NaN</td>\n",
              "      <td>NaN</td>\n",
              "      <td>40.000000</td>\n",
              "      <td>NaN</td>\n",
              "      <td>NaN</td>\n",
              "    </tr>\n",
              "    <tr>\n",
              "      <th>75%</th>\n",
              "      <td>47.000000</td>\n",
              "      <td>NaN</td>\n",
              "      <td>NaN</td>\n",
              "      <td>NaN</td>\n",
              "      <td>NaN</td>\n",
              "      <td>45.000000</td>\n",
              "      <td>NaN</td>\n",
              "      <td>NaN</td>\n",
              "    </tr>\n",
              "    <tr>\n",
              "      <th>max</th>\n",
              "      <td>90.000000</td>\n",
              "      <td>NaN</td>\n",
              "      <td>NaN</td>\n",
              "      <td>NaN</td>\n",
              "      <td>NaN</td>\n",
              "      <td>99.000000</td>\n",
              "      <td>NaN</td>\n",
              "      <td>NaN</td>\n",
              "    </tr>\n",
              "  </tbody>\n",
              "</table>\n",
              "</div>"
            ],
            "text/plain": [
              "                 age workclass    education   race    sex  hours_per_week  \\\n",
              "count   41617.000000     41705        41702  41700  41701    41631.000000   \n",
              "unique           NaN         7           10      5      2             NaN   \n",
              "top              NaN   Private  High-school  White   Male             NaN   \n",
              "freq             NaN     30962        14969  35670  28191             NaN   \n",
              "mean       38.476608       NaN          NaN    NaN    NaN       40.743220   \n",
              "std        13.365972       NaN          NaN    NaN    NaN       12.000085   \n",
              "min        17.000000       NaN          NaN    NaN    NaN        1.000000   \n",
              "25%        28.000000       NaN          NaN    NaN    NaN       40.000000   \n",
              "50%        37.000000       NaN          NaN    NaN    NaN       40.000000   \n",
              "75%        47.000000       NaN          NaN    NaN    NaN       45.000000   \n",
              "max        90.000000       NaN          NaN    NaN    NaN       99.000000   \n",
              "\n",
              "        USA_born  label  \n",
              "count    41701.0  41716  \n",
              "unique       2.0      2  \n",
              "top          1.0  <=50K  \n",
              "freq     37325.0  31813  \n",
              "mean         NaN    NaN  \n",
              "std          NaN    NaN  \n",
              "min          NaN    NaN  \n",
              "25%          NaN    NaN  \n",
              "50%          NaN    NaN  \n",
              "75%          NaN    NaN  \n",
              "max          NaN    NaN  "
            ]
          },
          "execution_count": 19,
          "metadata": {},
          "output_type": "execute_result"
        }
      ],
      "source": [
        "# Veamos la nueva descripción del dataset:\n",
        "data.describe(include='all')"
      ]
    },
    {
      "cell_type": "code",
      "execution_count": 20,
      "metadata": {
        "id": "h0HVzXlGKQdL"
      },
      "outputs": [
        {
          "data": {
            "text/plain": [
              "age                float64\n",
              "workclass           object\n",
              "education           object\n",
              "race                object\n",
              "sex                 object\n",
              "hours_per_week     float64\n",
              "USA_born          category\n",
              "label               object\n",
              "dtype: object"
            ]
          },
          "execution_count": 20,
          "metadata": {},
          "output_type": "execute_result"
        }
      ],
      "source": [
        "# Verifiquemos el tipo de dato de cada columna:\n",
        "data.dtypes"
      ]
    },
    {
      "cell_type": "code",
      "execution_count": 21,
      "metadata": {
        "id": "06yo3fUBKQdL"
      },
      "outputs": [],
      "source": [
        "# Carguemos el dataset a un nuevo archivo:\n",
        "data.to_csv('./census_processed1.csv', index=False)"
      ]
    }
  ],
  "metadata": {
    "colab": {
      "include_colab_link": true,
      "provenance": []
    },
    "kernelspec": {
      "display_name": ".venv",
      "language": "python",
      "name": "python3"
    },
    "language_info": {
      "codemirror_mode": {
        "name": "ipython",
        "version": 3
      },
      "file_extension": ".py",
      "mimetype": "text/x-python",
      "name": "python",
      "nbconvert_exporter": "python",
      "pygments_lexer": "ipython3",
      "version": "3.10.12"
    },
    "notify_time": "5",
    "varInspector": {
      "cols": {
        "lenName": 16,
        "lenType": 16,
        "lenVar": 40
      },
      "kernels_config": {
        "python": {
          "delete_cmd_postfix": "",
          "delete_cmd_prefix": "del ",
          "library": "var_list.py",
          "varRefreshCmd": "print(var_dic_list())"
        },
        "r": {
          "delete_cmd_postfix": ") ",
          "delete_cmd_prefix": "rm(",
          "library": "var_list.r",
          "varRefreshCmd": "cat(var_dic_list()) "
        }
      },
      "types_to_exclude": [
        "module",
        "function",
        "builtin_function_or_method",
        "instance",
        "_Feature"
      ],
      "window_display": false
    }
  },
  "nbformat": 4,
  "nbformat_minor": 0
}
