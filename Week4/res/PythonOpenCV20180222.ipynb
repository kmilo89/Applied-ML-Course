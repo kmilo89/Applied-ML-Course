{
 "cells": [
  {
   "cell_type": "markdown",
   "metadata": {},
   "source": [
    "# Introducción a OpenCV con Python\n",
    "## Por Albeiro Espinosa Bedoya, John Willian Branch Bedoya\n",
    "\n",
    "\n",
    "## ¿Qué es Python?\n",
    "\n",
    "Python es un lenguaje de programación que se enfoca en proveer código con alto grado de <span style=\"color: red;\">**legibilidad**</span>.\n",
    "\n",
    "\n",
    "<div class=\"alert alert-warning\" role=\"alert\" style=\"margin: 10px\">\n",
    "<p>**C++**</p>\n",
    "</div>\n",
    "\n",
    "```C++\n",
    "1 #include stdout\n",
    "2\n",
    "3 int main()\n",
    "4 {\n",
    "5    std::cout << \"Hola Mundo!\\n\"\n",
    "6 }\n",
    "```\n",
    "\n",
    "<div class=\"alert alert-warning\" role=\"alert\" style=\"margin: 10px\">\n",
    "<p>**Python**</p>\n",
    "</div>\n",
    "\n",
    "```python\n",
    "1 print(\"Hola Mundo!\")\n",
    "```\n",
    "\n",
    "## ¿Quiénes usan Python?\n",
    "\n",
    "### Empresas que usan Python.\n",
    "\n",
    "| ![Disney Animation Studios](disney.jpg) | ![Blender Inc.](Blender.png) |\n",
    "|:---:|:---:|\n",
    "| ![NASA](nasa.png) | ![IBM](ibm.png) |\n",
    "\n",
    "### Instituciones Educativas que usan Python.\n",
    "\n",
    "| ![Universidad de California](irvine.png) | ![Delft University](delft.png) |\n",
    "|:---:|:---:|\n",
    "| ![Pennsylvania](pensilvania.png) | ![ESRI](esri.png) |\n",
    "\n",
    "\n",
    "## Características de Python\n",
    "\n",
    "- Lenguaje de alto nivel.\n",
    "- Lenguaje de propósito general.\n",
    "- Lenguaje interpretado.\n",
    "- Lenguaje de programación dinámica.\n"
   ]
  },
  {
   "cell_type": "markdown",
   "metadata": {},
   "source": [
    "## Implementaciones Alternativas de Python\n",
    "\n",
    "### Distribuciones\n",
    "\n",
    "1. Cpython.\n",
    "2. IronPython (.NET).\n",
    "3. Jython (Java).\n",
    "4. Pypy (Compilador JIT).\n",
    "5. Stackless Python (Version multihilos).\n",
    "6. MicroPython (Microprocesadores).\n",
    "\n",
    "### Aplicaciones Especializadas\n",
    "1. Pythonxy : Aplicaciones Científicas.\n",
    "2. PyIMSL Studio: Análisis Numérico.\n",
    "3. Anaconda Python: Visualización y análisis de datos.\n",
    "4. ActiveState ActivePython: Computación científica.\n",
    "\n",
    "## Anaconda\n",
    "\n",
    "Anaconda es la plataforma abierta para la ciencia de datos bajo Python. La versión de código abierto de Anaconda es una distribución de alto rendimiento de Python y R que incluye mas de 100 de los más populares paquetes usados en ciencia de los datos. Además, tiene acceso a más de 720 paquetes que pueden ser fácilmente instalados con Conda.\n",
    "\n",
    "Para el desarrollo de este curso se usará la versión de Anaconda que incluye a **Python 3.6**, la cual se puede descargar de (https://www.continuum.io/downloads).\n",
    "\n",
    "\n",
    "![Python 3.6](python36.png)"
   ]
  },
  {
   "cell_type": "markdown",
   "metadata": {},
   "source": [
    "## Entornos de Python"
   ]
  },
  {
   "cell_type": "markdown",
   "metadata": {},
   "source": [
    "### Consola de Python"
   ]
  },
  {
   "cell_type": "markdown",
   "metadata": {},
   "source": [
    "import os\n",
    "os.startfile('c:\\Anaconda2\\python.exe')"
   ]
  },
  {
   "cell_type": "markdown",
   "metadata": {},
   "source": [
    "### IDLE"
   ]
  },
  {
   "cell_type": "markdown",
   "metadata": {
    "collapsed": true
   },
   "source": [
    "import os\n",
    "os.startfile('C:\\Anaconda2\\Scripts\\idle.exe')"
   ]
  },
  {
   "cell_type": "markdown",
   "metadata": {},
   "source": [
    "### Spyder"
   ]
  },
  {
   "cell_type": "markdown",
   "metadata": {},
   "source": [
    "Todas la Aplicaciones -> Anaconda2 ->Spyder"
   ]
  },
  {
   "cell_type": "markdown",
   "metadata": {
    "collapsed": true
   },
   "source": [
    "import os\n",
    "os.startfile('C:\\Anaconda2\\Scripts\\spyder.exe')"
   ]
  },
  {
   "cell_type": "markdown",
   "metadata": {},
   "source": [
    "## Operadores y Expresiones"
   ]
  },
  {
   "cell_type": "markdown",
   "metadata": {},
   "source": [
    "### Suma"
   ]
  },
  {
   "cell_type": "code",
   "execution_count": 1,
   "metadata": {},
   "outputs": [
    {
     "data": {
      "text/plain": [
       "31.3"
      ]
     },
     "execution_count": 1,
     "metadata": {},
     "output_type": "execute_result"
    }
   ],
   "source": [
    "4.5+26.8"
   ]
  },
  {
   "cell_type": "markdown",
   "metadata": {},
   "source": [
    "### Concatenación"
   ]
  },
  {
   "cell_type": "code",
   "execution_count": 2,
   "metadata": {},
   "outputs": [
    {
     "data": {
      "text/plain": [
       "'ab'"
      ]
     },
     "execution_count": 2,
     "metadata": {},
     "output_type": "execute_result"
    }
   ],
   "source": [
    "'a' + 'b'"
   ]
  },
  {
   "cell_type": "markdown",
   "metadata": {},
   "source": [
    "### Resta"
   ]
  },
  {
   "cell_type": "code",
   "execution_count": 3,
   "metadata": {},
   "outputs": [
    {
     "data": {
      "text/plain": [
       "10"
      ]
     },
     "execution_count": 3,
     "metadata": {},
     "output_type": "execute_result"
    }
   ],
   "source": [
    "20-10"
   ]
  },
  {
   "cell_type": "markdown",
   "metadata": {},
   "source": [
    "### Multiplicación"
   ]
  },
  {
   "cell_type": "code",
   "execution_count": 4,
   "metadata": {},
   "outputs": [
    {
     "data": {
      "text/plain": [
       "20"
      ]
     },
     "execution_count": 4,
     "metadata": {},
     "output_type": "execute_result"
    }
   ],
   "source": [
    "5*4"
   ]
  },
  {
   "cell_type": "markdown",
   "metadata": {},
   "source": [
    "### Concatenación N veces de una cadena"
   ]
  },
  {
   "cell_type": "code",
   "execution_count": 5,
   "metadata": {},
   "outputs": [
    {
     "data": {
      "text/plain": [
       "'AXAXAXAXAXAXAX'"
      ]
     },
     "execution_count": 5,
     "metadata": {},
     "output_type": "execute_result"
    }
   ],
   "source": [
    "7*'AX'"
   ]
  },
  {
   "cell_type": "markdown",
   "metadata": {},
   "source": [
    "### Potenciación"
   ]
  },
  {
   "cell_type": "code",
   "execution_count": 6,
   "metadata": {},
   "outputs": [
    {
     "data": {
      "text/plain": [
       "16"
      ]
     },
     "execution_count": 6,
     "metadata": {},
     "output_type": "execute_result"
    }
   ],
   "source": [
    "2**4"
   ]
  },
  {
   "cell_type": "markdown",
   "metadata": {},
   "source": [
    "### División"
   ]
  },
  {
   "cell_type": "code",
   "execution_count": null,
   "metadata": {
    "collapsed": true
   },
   "outputs": [],
   "source": [
    "8.0/5.0"
   ]
  },
  {
   "cell_type": "markdown",
   "metadata": {},
   "source": [
    "### Cociente de una división"
   ]
  },
  {
   "cell_type": "code",
   "execution_count": 7,
   "metadata": {},
   "outputs": [
    {
     "data": {
      "text/plain": [
       "1.0"
      ]
     },
     "execution_count": 7,
     "metadata": {},
     "output_type": "execute_result"
    }
   ],
   "source": [
    "9.0//6.0"
   ]
  },
  {
   "cell_type": "code",
   "execution_count": 8,
   "metadata": {},
   "outputs": [
    {
     "data": {
      "text/plain": [
       "-2.0"
      ]
     },
     "execution_count": 8,
     "metadata": {},
     "output_type": "execute_result"
    }
   ],
   "source": [
    "-6.0//5.0"
   ]
  },
  {
   "cell_type": "markdown",
   "metadata": {},
   "source": [
    "<div class=\"alert alert-warning\" role=\"alert\" style=\"margin: 10px\">\n",
    "<p>**Nota**</p>\n",
    "\n",
    "<p>Realiza la misma función del operador ROOT.</p>\n",
    "</div>"
   ]
  },
  {
   "cell_type": "markdown",
   "metadata": {},
   "source": [
    "### Módulo"
   ]
  },
  {
   "cell_type": "code",
   "execution_count": 9,
   "metadata": {},
   "outputs": [
    {
     "data": {
      "text/plain": [
       "3.0"
      ]
     },
     "execution_count": 9,
     "metadata": {},
     "output_type": "execute_result"
    }
   ],
   "source": [
    "8.0%5.0"
   ]
  },
  {
   "cell_type": "markdown",
   "metadata": {},
   "source": [
    "### Correr bits a la izquierda"
   ]
  },
  {
   "cell_type": "code",
   "execution_count": 10,
   "metadata": {},
   "outputs": [
    {
     "data": {
      "text/plain": [
       "8"
      ]
     },
     "execution_count": 10,
     "metadata": {},
     "output_type": "execute_result"
    }
   ],
   "source": [
    "2<<2"
   ]
  },
  {
   "cell_type": "markdown",
   "metadata": {},
   "source": [
    "### Correr bits a la derecha"
   ]
  },
  {
   "cell_type": "code",
   "execution_count": 11,
   "metadata": {},
   "outputs": [
    {
     "data": {
      "text/plain": [
       "4"
      ]
     },
     "execution_count": 11,
     "metadata": {},
     "output_type": "execute_result"
    }
   ],
   "source": [
    "8>>1"
   ]
  },
  {
   "cell_type": "markdown",
   "metadata": {},
   "source": [
    "### AND entre bits"
   ]
  },
  {
   "cell_type": "code",
   "execution_count": null,
   "metadata": {
    "collapsed": true
   },
   "outputs": [],
   "source": [
    "9&4"
   ]
  },
  {
   "cell_type": "markdown",
   "metadata": {},
   "source": [
    "### OR entre bits"
   ]
  },
  {
   "cell_type": "code",
   "execution_count": null,
   "metadata": {
    "collapsed": true
   },
   "outputs": [],
   "source": [
    "9|4"
   ]
  },
  {
   "cell_type": "markdown",
   "metadata": {},
   "source": [
    "### XOR entre bits"
   ]
  },
  {
   "cell_type": "code",
   "execution_count": null,
   "metadata": {
    "collapsed": true
   },
   "outputs": [],
   "source": [
    "5^3"
   ]
  },
  {
   "cell_type": "markdown",
   "metadata": {},
   "source": [
    "### Invertir bits"
   ]
  },
  {
   "cell_type": "code",
   "execution_count": null,
   "metadata": {
    "collapsed": true
   },
   "outputs": [],
   "source": [
    "~7"
   ]
  },
  {
   "cell_type": "markdown",
   "metadata": {},
   "source": [
    "### AND Booleano"
   ]
  },
  {
   "cell_type": "code",
   "execution_count": 15,
   "metadata": {},
   "outputs": [
    {
     "data": {
      "text/plain": [
       "True"
      ]
     },
     "execution_count": 15,
     "metadata": {},
     "output_type": "execute_result"
    }
   ],
   "source": [
    "True and (6>5)"
   ]
  },
  {
   "cell_type": "markdown",
   "metadata": {},
   "source": [
    "### OR Booleano"
   ]
  },
  {
   "cell_type": "code",
   "execution_count": null,
   "metadata": {
    "collapsed": true
   },
   "outputs": [],
   "source": [
    "True or False"
   ]
  },
  {
   "cell_type": "markdown",
   "metadata": {},
   "source": [
    "### NOT Booleano"
   ]
  },
  {
   "cell_type": "code",
   "execution_count": null,
   "metadata": {
    "collapsed": true
   },
   "outputs": [],
   "source": [
    "not(True)"
   ]
  },
  {
   "cell_type": "markdown",
   "metadata": {},
   "source": [
    "### Mayor que"
   ]
  },
  {
   "cell_type": "code",
   "execution_count": 16,
   "metadata": {},
   "outputs": [
    {
     "data": {
      "text/plain": [
       "False"
      ]
     },
     "execution_count": 16,
     "metadata": {},
     "output_type": "execute_result"
    }
   ],
   "source": [
    "4>5"
   ]
  },
  {
   "cell_type": "code",
   "execution_count": 17,
   "metadata": {},
   "outputs": [
    {
     "data": {
      "text/plain": [
       "True"
      ]
     },
     "execution_count": 17,
     "metadata": {},
     "output_type": "execute_result"
    }
   ],
   "source": [
    "'a'>'A'"
   ]
  },
  {
   "cell_type": "markdown",
   "metadata": {},
   "source": [
    "### Menor que"
   ]
  },
  {
   "cell_type": "code",
   "execution_count": null,
   "metadata": {
    "collapsed": true
   },
   "outputs": [],
   "source": [
    "3<7"
   ]
  },
  {
   "cell_type": "code",
   "execution_count": null,
   "metadata": {
    "collapsed": true
   },
   "outputs": [],
   "source": [
    "'d'<'D'"
   ]
  },
  {
   "cell_type": "markdown",
   "metadata": {},
   "source": [
    "### Mayor o igual que"
   ]
  },
  {
   "cell_type": "code",
   "execution_count": null,
   "metadata": {
    "collapsed": true
   },
   "outputs": [],
   "source": [
    "7>=7"
   ]
  },
  {
   "cell_type": "code",
   "execution_count": null,
   "metadata": {
    "collapsed": true
   },
   "outputs": [],
   "source": [
    "'d'>='D'"
   ]
  },
  {
   "cell_type": "markdown",
   "metadata": {},
   "source": [
    "### Menor o igual que"
   ]
  },
  {
   "cell_type": "code",
   "execution_count": null,
   "metadata": {
    "collapsed": true
   },
   "outputs": [],
   "source": [
    "-5<=5"
   ]
  },
  {
   "cell_type": "code",
   "execution_count": null,
   "metadata": {
    "collapsed": true
   },
   "outputs": [],
   "source": [
    "'a'<='z'"
   ]
  },
  {
   "cell_type": "markdown",
   "metadata": {},
   "source": [
    "### Igual"
   ]
  },
  {
   "cell_type": "code",
   "execution_count": null,
   "metadata": {
    "collapsed": true
   },
   "outputs": [],
   "source": [
    "7==8"
   ]
  },
  {
   "cell_type": "code",
   "execution_count": null,
   "metadata": {
    "collapsed": true
   },
   "outputs": [],
   "source": [
    "'abc' =='aBc'"
   ]
  },
  {
   "cell_type": "markdown",
   "metadata": {},
   "source": [
    "### Diferente"
   ]
  },
  {
   "cell_type": "code",
   "execution_count": null,
   "metadata": {
    "collapsed": true
   },
   "outputs": [],
   "source": [
    "9!=5"
   ]
  },
  {
   "cell_type": "code",
   "execution_count": null,
   "metadata": {
    "collapsed": true
   },
   "outputs": [],
   "source": [
    "'abc' !='aBc'"
   ]
  },
  {
   "cell_type": "markdown",
   "metadata": {},
   "source": [
    "## Sentencia IF"
   ]
  },
  {
   "cell_type": "markdown",
   "metadata": {},
   "source": [
    "```python\n",
    "if expresion1:\n",
    "   sentencia(s)\n",
    "elif expresion2:\n",
    "   sentencia(s)\n",
    "elif expresion3:\n",
    "   sentencia(s)\n",
    "else:\n",
    "   sentencia(s) \n",
    "```\n",
    "\n",
    "<div class=\"alert alert-warning\" role=\"alert\" style=\"margin: 10px\">\n",
    "<p>**Nota**</p>\n",
    "\n",
    "<p>Las instrucciones elif y else son opcionales. El END IF no es explícito.</p>\n",
    "</div>"
   ]
  },
  {
   "cell_type": "code",
   "execution_count": 18,
   "metadata": {},
   "outputs": [
    {
     "name": "stdout",
     "output_type": "stream",
     "text": [
      "ingrese un valor numerico \n",
      "300\n",
      "Valor en el intervalo 200<=X<400\n",
      "300.0\n",
      "Esto es todo amigos!\n"
     ]
    }
   ],
   "source": [
    "var = float(input(\"ingrese un valor numerico \\n\"))\n",
    "\n",
    "if var >= 0 and var <= 200:\n",
    "    print(\"Valor en el intervalo 0<=X<200\") \n",
    "    print(var)\n",
    "elif var >= 200 and var <= 400:\n",
    "    print(\"Valor en el intervalo 200<=X<400\")\n",
    "    print(var)\n",
    "elif var >= 400 and var <= 600:\n",
    "    print(\"Valor en el intervalo 400<=X<600\")\n",
    "    print(var)\n",
    "else:\n",
    "    print(\"Valor en intervalo desconocido\")\n",
    "    print(var) \n",
    "\n",
    "print(\"Esto es todo amigos!\")"
   ]
  },
  {
   "cell_type": "markdown",
   "metadata": {},
   "source": [
    "## Ciclo FOR"
   ]
  },
  {
   "cell_type": "markdown",
   "metadata": {},
   "source": [
    "### Estructura\n",
    "\n",
    "```python\n",
    "for indice in rango:\n",
    "   sentencia(s)\n",
    "```"
   ]
  },
  {
   "cell_type": "markdown",
   "metadata": {},
   "source": [
    "### Ejemplo 1"
   ]
  },
  {
   "cell_type": "code",
   "execution_count": 19,
   "metadata": {},
   "outputs": [
    {
     "name": "stdout",
     "output_type": "stream",
     "text": [
      "[0, 1, 2, 3, 4]\n",
      "[0, 1, 2, 3, 4]\n",
      "[0, 1, 2, 3, 4]\n",
      "[1, 3, 5, 7, 9]\n",
      "[2, 4, 6, 8]\n",
      "[]\n",
      "[5, 4, 3, 2, 1]\n",
      "0 Queso\n",
      "1 Pepperoni\n",
      "2 Chorizo\n",
      "3 Anchoas\n"
     ]
    }
   ],
   "source": [
    "print(list(range(0, 5, 1)))\n",
    "print(list(range(0, 5)))\n",
    "print(list(range(5)))\n",
    "print(list(range(1, 10, 2)))\n",
    "print(list(range(2, 10, 2)))\n",
    "print(list(range(5, 5)))\n",
    "print(list(range(5, 0, -1)))\n",
    "\n",
    "Componentes = [\"Queso\", \"Pepperoni\", \"Chorizo\", \"Anchoas\"]\n",
    "L=range(len(Componentes))\n",
    "\n",
    "for i in L:\n",
    "    print(i, Componentes[i])"
   ]
  },
  {
   "cell_type": "markdown",
   "metadata": {},
   "source": [
    "### Ejemplo 2"
   ]
  },
  {
   "cell_type": "code",
   "execution_count": 20,
   "metadata": {},
   "outputs": [
    {
     "name": "stdout",
     "output_type": "stream",
     "text": [
      "Suma total es: 100\n"
     ]
    }
   ],
   "source": [
    "i=range(10,50,10)\n",
    "s=0\n",
    "for n in i:\n",
    "    s=s+n\n",
    "    \n",
    "print(\"Suma total es: {}\".format(s))"
   ]
  },
  {
   "cell_type": "markdown",
   "metadata": {},
   "source": [
    "### Ejemplo 3:"
   ]
  },
  {
   "cell_type": "code",
   "execution_count": 23,
   "metadata": {},
   "outputs": [
    {
     "name": "stdout",
     "output_type": "stream",
     "text": [
      "1.00,1.00\n",
      "\n",
      "1.00,2.00\n",
      "\n",
      "1.00,3.00\n",
      "\n",
      "2.00,1.00\n",
      "\n",
      "2.00,2.00\n",
      "\n",
      "2.00,3.00\n",
      "\n",
      "3.00,1.00\n",
      "\n",
      "3.00,2.00\n",
      "\n",
      "3.00,3.00\n",
      "\n",
      "4.00,1.00\n",
      "\n",
      "4.00,2.00\n",
      "\n",
      "4.00,3.00\n",
      "\n"
     ]
    }
   ],
   "source": [
    "m=5\n",
    "n=4\n",
    "\n",
    "Ri=range(1,m,1)\n",
    "Rj=range(1,n,1)\n",
    "\n",
    "for i in Ri:\n",
    "    for j in Rj:\n",
    "        print(\"{:.2f},{:.2f}\\n\".format(i,j))\n",
    "        \n",
    "\n",
    "s=\"fin\""
   ]
  },
  {
   "cell_type": "markdown",
   "metadata": {},
   "source": [
    "## Ciclo WHILE"
   ]
  },
  {
   "cell_type": "markdown",
   "metadata": {},
   "source": [
    "### Estructura"
   ]
  },
  {
   "cell_type": "markdown",
   "metadata": {},
   "source": [
    "```python\n",
    "while condicion:\n",
    "   sentencia(s) \n",
    "```"
   ]
  },
  {
   "cell_type": "markdown",
   "metadata": {},
   "source": [
    "### Ejemplo 1:"
   ]
  },
  {
   "cell_type": "code",
   "execution_count": null,
   "metadata": {
    "collapsed": true
   },
   "outputs": [],
   "source": [
    "N=float(input(\"ingrese un numero \\n\"))\n",
    "\n",
    "while (N<20):\n",
    "    N=float(input(\"ingrese un numero \\n\"))\n",
    "    \n",
    "print(\"Esto es todo amigos\")"
   ]
  },
  {
   "cell_type": "markdown",
   "metadata": {},
   "source": [
    "## Funciones"
   ]
  },
  {
   "cell_type": "markdown",
   "metadata": {},
   "source": [
    "### Estructura"
   ]
  },
  {
   "cell_type": "markdown",
   "metadata": {},
   "source": [
    "```python\n",
    "def nombrefuncion(par1, par2, ...):\n",
    "   sentencia(s)\n",
    "   return Lista\n",
    "```\n",
    "\n",
    "<div class=\"alert alert-warning\" role=\"alert\" style=\"margin: 10px\">\n",
    "<p>**Nota**</p>\n",
    "\n",
    "<p>El uso de <span style=\"color:blue;\">**return**</span> es opcional.</p>\n",
    "</div>"
   ]
  },
  {
   "cell_type": "markdown",
   "metadata": {},
   "source": [
    "### Ejemplo 1:"
   ]
  },
  {
   "cell_type": "code",
   "execution_count": null,
   "metadata": {
    "collapsed": true
   },
   "outputs": [],
   "source": [
    "def suma(a,b):\n",
    " sum = a + b\n",
    " return sum\n",
    "\n",
    "x=5\n",
    "y=6\n",
    "print(\"La suma de {} y {} es {}\".format(x,y,suma(x,y)))\n"
   ]
  },
  {
   "cell_type": "markdown",
   "metadata": {},
   "source": [
    "## Clases"
   ]
  },
  {
   "cell_type": "markdown",
   "metadata": {},
   "source": [
    "Una clase contiene una colección de métodos. Cada método contiene como primer parámetro (self) que hace referencia a un objeto."
   ]
  },
  {
   "cell_type": "markdown",
   "metadata": {},
   "source": [
    "### Estructura"
   ]
  },
  {
   "cell_type": "markdown",
   "metadata": {},
   "source": [
    "```python\n",
    "class nombreclase:\n",
    "   variable(s)\n",
    "   def nombremetodo(self,par1,par2,..):\n",
    "      sentencia(s)\n",
    "      return Lista\n",
    "```"
   ]
  },
  {
   "cell_type": "markdown",
   "metadata": {},
   "source": [
    "### Ejemplo 1:"
   ]
  },
  {
   "cell_type": "code",
   "execution_count": null,
   "metadata": {
    "collapsed": true
   },
   "outputs": [],
   "source": [
    "class clsprueba:\n",
    "    i=4598\n",
    "    def metodo1(self):\n",
    "       return \"Esto es todo amigos\"\n",
    "    \n",
    "x=clsprueba()\n",
    "print(x.i)\n",
    "print(x.metodo1())"
   ]
  },
  {
   "cell_type": "markdown",
   "metadata": {},
   "source": [
    "## Gestión de Archivos"
   ]
  },
  {
   "cell_type": "code",
   "execution_count": 1,
   "metadata": {},
   "outputs": [
    {
     "name": "stdout",
     "output_type": "stream",
     "text": [
      "archivo creado\n",
      "datos ingresados al archivo\n",
      "Linea 1\n",
      "\n",
      "Linea 2\n",
      "\n",
      "Linea 3\n",
      "\n",
      "Datos leidos\n"
     ]
    }
   ],
   "source": [
    "def creartxt():\n",
    "    archi=open('datos.txt','w')\n",
    "    archi.close()\n",
    "    print(\"archivo creado\")\n",
    "\n",
    "def grabartxt():\n",
    "    archi=open('datos.txt','a')\n",
    "    archi.write('Linea 1\\n')\n",
    "    archi.write('Linea 2\\n')\n",
    "    archi.write('Linea 3\\n')\n",
    "    archi.close()\n",
    "    print(\"datos ingresados al archivo\")\n",
    "\n",
    "def leertxt():\n",
    "    archi=open('datos.txt','r')\n",
    "    linea=archi.readline()\n",
    "    while linea!=\"\":\n",
    "        print(linea)\n",
    "        linea=archi.readline()\n",
    "    archi.close()\n",
    "    print(\"Datos leidos\")\n",
    "\n",
    "creartxt()\n",
    "grabartxt()\n",
    "leertxt()"
   ]
  },
  {
   "cell_type": "markdown",
   "metadata": {},
   "source": [
    "## Módulos Estándar"
   ]
  },
  {
   "cell_type": "markdown",
   "metadata": {},
   "source": [
    "El índice de paquetes Python (PyPI - the Python Package Index) es un repositorio de software para el lenguaje de programación Python. Actualmente hay 84818 modulos allí."
   ]
  },
  {
   "cell_type": "code",
   "execution_count": null,
   "metadata": {
    "collapsed": true
   },
   "outputs": [],
   "source": [
    "help(\"modules\")"
   ]
  },
  {
   "cell_type": "markdown",
   "metadata": {},
   "source": [
    "Algunas de las más importantes son:\n",
    "\n",
    "- math\n",
    "- mathplotlib\n",
    "- scipy\n",
    "- numpy\n",
    "- os\n",
    "- datetime\n",
    "- urllib2\n",
    "\n",
    "Un módulo es invocado empleando la palabra clave <span style=\"color:red;\">**import**</span>"
   ]
  },
  {
   "cell_type": "code",
   "execution_count": null,
   "metadata": {
    "collapsed": true
   },
   "outputs": [],
   "source": [
    "import math\n",
    "import numpy\n",
    "from math import pi as pi2\n",
    "\n",
    "pi=math.pi\n",
    "\n",
    "print(pi)\n",
    "print(pi2)"
   ]
  },
  {
   "cell_type": "markdown",
   "metadata": {},
   "source": [
    "## Modulos personalizados"
   ]
  },
  {
   "cell_type": "markdown",
   "metadata": {},
   "source": [
    "Guardar el siguiente código en un archivo nombado como <span style=\"color: red;\">**circulo.py**</span> la cual contine el siguiente código:\n",
    "\n",
    "```python\n",
    "import numpy as np\n",
    "\n",
    "def area_circulo(r):\n",
    "    a=np.pi*(r**2)\n",
    "    return a\n",
    "\n",
    "def perimetro_circulo(r):\n",
    "    per=2*np.pi*r\n",
    "    return per\n",
    "```"
   ]
  },
  {
   "cell_type": "code",
   "execution_count": null,
   "metadata": {
    "collapsed": true
   },
   "outputs": [],
   "source": [
    "import circulo as cir\n",
    "\n",
    "r=12\n",
    "print(\"Area Circulo =\",cir.area_circulo(r))\n",
    "print(\"Perimetro Circulo =\",cir.perimetro_circulo(r))"
   ]
  },
  {
   "cell_type": "markdown",
   "metadata": {},
   "source": [
    "# Introducción a Matplotlib y NumPy"
   ]
  },
  {
   "cell_type": "markdown",
   "metadata": {},
   "source": [
    "### Matplotlib\n",
    "\n",
    "Es un modulo para gráficos 2D y 3D en Python que produce figuras de alta calidad en diferentes formatos y entornos interactivos. Matplotlib se puede utilizar en los scripts de Python, el intérprete de Python e Ipython, servidores de aplicaciones Web, y seis juegos de herramientas de interfaz de usuario gráfica.\n",
    "\n",
    "Una galeria construida con el módulo MatplotLib puede ser vista en: http://matplotlib.org/gallery.html"
   ]
  },
  {
   "cell_type": "markdown",
   "metadata": {},
   "source": [
    "### Numpy\n",
    "\n",
    "Es el módulo fundamental para la computación científica con Python. Es fuerte en el calculo con matrices N-dimensionales, algebra lineal, transformadas de Fourier y numeros aleatorios.\n",
    "\n",
    "Para usuarios de Matlab se puede encontrar una guia de equivalencia de funciones en el sitio de Numpy: https://docs.scipy.org/doc/numpy-dev/user/numpy-for-matlab-users.html\n"
   ]
  },
  {
   "cell_type": "code",
   "execution_count": 25,
   "metadata": {
    "collapsed": true
   },
   "outputs": [],
   "source": [
    "# %pylab inline"
   ]
  },
  {
   "cell_type": "markdown",
   "metadata": {},
   "source": [
    "**Ejemplo 1**"
   ]
  },
  {
   "cell_type": "code",
   "execution_count": 1,
   "metadata": {},
   "outputs": [
    {
     "data": {
      "image/png": "[encoded data removed]",
      "text/plain": [
       "<matplotlib.figure.Figure at 0x1f7f22ef6d8>"
      ]
     },
     "metadata": {},
     "output_type": "display_data"
    }
   ],
   "source": [
    "import numpy as np\n",
    "import matplotlib.pyplot as plt\n",
    "\n",
    "t=np.linspace(0, 2 * np.pi, 72)\n",
    "f1=np.sin(t)\n",
    "f2=np.cos(t)\n",
    "\n",
    "plt.plot(t, f1,color = 'r')\n",
    "plt.plot(t, f2,color = 'b')\n",
    "plt.show()"
   ]
  },
  {
   "cell_type": "markdown",
   "metadata": {},
   "source": [
    "**Ejemplo 2**"
   ]
  },
  {
   "cell_type": "code",
   "execution_count": 2,
   "metadata": {},
   "outputs": [
    {
     "data": {
      "image/png": "[encoded data removed]",
      "text/plain": [
       "<matplotlib.figure.Figure at 0x1f7f22ef470>"
      ]
     },
     "metadata": {},
     "output_type": "display_data"
    }
   ],
   "source": [
    "import numpy as np\n",
    "import matplotlib.pyplot as plt\n",
    "\n",
    "t = np.linspace(-5, 5, 100)\n",
    "f1 = 2.*t**2.-4.*t+1.\n",
    "\n",
    "plt.plot(t,f1)\n",
    "plt.show()"
   ]
  },
  {
   "cell_type": "markdown",
   "metadata": {},
   "source": [
    "**Ejemplo 3**"
   ]
  },
  {
   "cell_type": "code",
   "execution_count": 3,
   "metadata": {},
   "outputs": [
    {
     "data": {
      "image/png": "[encoded data removed]",
      "text/plain": [
       "<matplotlib.figure.Figure at 0x1f7f99d53c8>"
      ]
     },
     "metadata": {},
     "output_type": "display_data"
    }
   ],
   "source": [
    "import numpy as np\n",
    "import matplotlib.pyplot as plt\n",
    "\n",
    "datos = np.random.rand(720, 2)\n",
    "\n",
    "plt.scatter(datos[:,0], datos[:,1],color=\"red\")\n",
    "plt.show()"
   ]
  },
  {
   "cell_type": "markdown",
   "metadata": {},
   "source": [
    "**Ejemplo 4**"
   ]
  },
  {
   "cell_type": "code",
   "execution_count": 29,
   "metadata": {},
   "outputs": [
    {
     "data": {
      "image/png": "[encoded data removed]",
      "text/plain": [
       "<matplotlib.figure.Figure at 0x1c36aefcc50>"
      ]
     },
     "metadata": {},
     "output_type": "display_data"
    }
   ],
   "source": [
    "import numpy as np\n",
    "import matplotlib.cm as cm\n",
    "import matplotlib.pyplot as plt\n",
    "\n",
    "N = 512\n",
    "angulo  = np.linspace(0, 16*np.pi, N)\n",
    "radio = np.linspace(0, 100, N)\n",
    "\n",
    "f1 = radio * np.cos(angulo)\n",
    "f2 = radio * np.sin(angulo)\n",
    "\n",
    "plt.scatter(f1, f2, c = angulo, cmap = cm.hsv)\n",
    "plt.show()"
   ]
  },
  {
   "cell_type": "markdown",
   "metadata": {},
   "source": [
    "**Ejemplo 5**"
   ]
  },
  {
   "cell_type": "code",
   "execution_count": 30,
   "metadata": {},
   "outputs": [
    {
     "data": {
      "image/png": "[encoded data removed]",
      "text/plain": [
       "<matplotlib.figure.Figure at 0x1c36af94898>"
      ]
     },
     "metadata": {},
     "output_type": "display_data"
    }
   ],
   "source": [
    "import numpy as np\n",
    "import matplotlib.cm as cm\n",
    "import matplotlib.pyplot as plt \n",
    "\n",
    "def Contador(C, NumIter):\n",
    "    num = C\n",
    "    for n in range(NumIter):\n",
    "        if abs(num) > 5.:\n",
    "            return n\n",
    "        num = num**2.0+C\n",
    "    return NumIter \n",
    "\n",
    "N = 256 \n",
    "NumIter = 128 \n",
    "xmin, xmax, ymin, ymax = -2.,1., -2., 2.\n",
    "x = np.linspace(xmin, xmax, N) \n",
    "y = np.linspace(ymin, ymax, N) \n",
    "img = np.empty((N, N))\n",
    "\n",
    "R=range(N)\n",
    "\n",
    "for i in R:\n",
    "    for j in R:\n",
    "        img[i, j] = Contador(complex(x[j], y[i]), NumIter)\n",
    "\n",
    "        \n",
    "plt.subplot(1,2,1)\n",
    "plt.imshow(img,cmap=cm.hsv)\n",
    "plt.title(\"HSV\")\n",
    "plt.subplot(1,2,2)\n",
    "plt.imshow(img,cmap=cm.binary)\n",
    "plt.title(\"Binary\")\n",
    "plt.show()"
   ]
  },
  {
   "cell_type": "markdown",
   "metadata": {},
   "source": [
    "**Ejemplo 6**"
   ]
  },
  {
   "cell_type": "code",
   "execution_count": 31,
   "metadata": {},
   "outputs": [
    {
     "data": {
      "image/png": "[encoded data removed]",
      "text/plain": [
       "<matplotlib.figure.Figure at 0x1c36af99518>"
      ]
     },
     "metadata": {},
     "output_type": "display_data"
    }
   ],
   "source": [
    "import numpy as np\n",
    "import matplotlib.pyplot as plt\n",
    "\n",
    "a=4\n",
    "b=-2\n",
    "c=0.5\n",
    "\n",
    "NDiv=20\n",
    "\n",
    "x = np.linspace(-1,4.,NDiv)\n",
    "y=a*(x**2)+b*x+c\n",
    "\n",
    "plt.plot(x,y)\n",
    "plt.xlabel(\"x\")\n",
    "plt.ylabel(\"y\")\n",
    "plt.title(\"Funcion Cuadratica\")\n",
    "plt.savefig(\"Funcion Cuadratica\")\n",
    "plt.show()"
   ]
  },
  {
   "cell_type": "markdown",
   "metadata": {},
   "source": [
    "**Ejemplo 7**"
   ]
  },
  {
   "cell_type": "code",
   "execution_count": 32,
   "metadata": {},
   "outputs": [
    {
     "data": {
      "image/png": "[encoded data removed]",
      "text/plain": [
       "<matplotlib.figure.Figure at 0x1c36af0dda0>"
      ]
     },
     "metadata": {},
     "output_type": "display_data"
    }
   ],
   "source": [
    "import numpy as np\n",
    "import matplotlib.pyplot as plt\n",
    "\n",
    "X=(0,0)\n",
    "Y=(0,0)\n",
    "U=(1,0)\n",
    "V=(0,1)\n",
    "\n",
    "plt.figure()\n",
    "ax = plt.gca()\n",
    "ax.quiver(X,Y,U,V,angles='xy',scale_units='xy',scale=1)\n",
    "ax.set_xlim([-1,2])\n",
    "ax.set_ylim([-1,2])\n",
    "plt.text(1.1, 0., r'$\\vec U$', fontsize=24, color='red', fontweight='bold')\n",
    "plt.text(0., 1.1, r'$\\vec V$', fontsize=24, color='green', fontweight='bold')\n",
    "\n",
    "plt.draw()\n",
    "plt.show()"
   ]
  },
  {
   "cell_type": "markdown",
   "metadata": {},
   "source": [
    "**Ejemplo 8**"
   ]
  },
  {
   "cell_type": "code",
   "execution_count": 33,
   "metadata": {},
   "outputs": [
    {
     "data": {
      "image/png": "[encoded data removed]",
      "text/plain": [
       "<matplotlib.figure.Figure at 0x1c36c039438>"
      ]
     },
     "metadata": {},
     "output_type": "display_data"
    }
   ],
   "source": [
    "import numpy\n",
    "import pylab\n",
    "\n",
    "t = numpy.arange(0.0, 0.7+0.01, 0.001)\n",
    "y=5.01*numpy.exp(-7.*t)*numpy.sin(99.75*t+1.5)\n",
    "\n",
    "pylab.plot(t, y)\n",
    "\n",
    "pylab.xlabel('tiempo (s)')\n",
    "pylab.ylabel('Aplitud')\n",
    "pylab.title('Onda amortiguada')\n",
    "pylab.grid(True)\n",
    "pylab.savefig('Onda amortiguada')\n",
    "\n",
    "pylab.show()"
   ]
  },
  {
   "cell_type": "markdown",
   "metadata": {},
   "source": [
    "**Ejemplo 9**"
   ]
  },
  {
   "cell_type": "code",
   "execution_count": 34,
   "metadata": {},
   "outputs": [
    {
     "data": {
      "image/png": "[encoded data removed]",
      "text/plain": [
       "<matplotlib.figure.Figure at 0x1c36c05af60>"
      ]
     },
     "metadata": {},
     "output_type": "display_data"
    }
   ],
   "source": [
    "import scipy as scp\n",
    "import pylab as plb\n",
    "import matplotlib.pyplot as plt\n",
    "\n",
    "x,y=scp.ogrid[-2*np.pi:2.*np.pi:.01,-2*np.pi:2.*np.pi:.01]\n",
    "z=4+2*np.cos(x)+2*np.cos(y)\n",
    "plb.imshow(z, origin='lower', extent=[-2*np.pi,2.*np.pi,-2*np.pi,2.*np.pi])\n",
    "plt.contour(z, origin='lower', extent=[-2*np.pi,2.*np.pi,-2*np.pi,2.*np.pi])\n",
    "plb.title('Superficie Coseno')\n",
    "plb.xlabel('x')\n",
    "plb.ylabel('y')\n",
    "plb.savefig('Superficie Coseno')\n",
    "plt.show()"
   ]
  },
  {
   "cell_type": "markdown",
   "metadata": {},
   "source": [
    "**Ejemplo 10**"
   ]
  },
  {
   "cell_type": "code",
   "execution_count": 35,
   "metadata": {},
   "outputs": [
    {
     "name": "stdout",
     "output_type": "stream",
     "text": [
      "[0. 0. 0. 0. 0. 0. 0. 0. 0. 0.]\n",
      "[1. 1. 1. 1. 1.]\n",
      "[0. 0. 0. 0. 0. 1. 1. 1. 1. 1. 1. 1. 0. 0. 0. 0. 0.]\n"
     ]
    }
   ],
   "source": [
    "import numpy as np\n",
    "\n",
    "print(np.zeros(10))\n",
    "print(np.ones(5))\n",
    "\n",
    "z=np.concatenate((np.zeros(5),np.ones(7),np.zeros(5)))\n",
    "\n",
    "print(z)"
   ]
  },
  {
   "cell_type": "markdown",
   "metadata": {},
   "source": [
    "# ¿Qué es OpenCV?"
   ]
  },
  {
   "cell_type": "markdown",
   "metadata": {},
   "source": [
    "OpenCV (Open Source Computer Vision Library) es una libreria abierta de visión por ordenador y de aprendizaje de máquina. OpenCV fue construido para proporcionar una infraestructura común para aplicaciones de visión por ordenador y para acelerar el uso de la percepción de máquina en productos comerciales. Al ser un producto de licencia BSD, OpenCV hace que sea fácil para las empresas utilizar y modificar el código.\n",
    "\n",
    "La biblioteca cuenta con más de 2500 algoritmos optimizados, que incluye un amplio conjunto de algoritmos, tanto los que son clásicos como aquellos provenientes del estado del arte. Estos algoritmos se pueden utilizar para detectar y reconocer las caras, identificar objetos, clasificar las acciones humanas en los vídeos, movimientos de cámara, moviendo el seguimiento de objetos, extraer modelos 3D de objetos, producir nubes de puntos 3D de cámaras estéreo, fusionar imágenes para producir imagenes de alta resolución de una escena completa, encontrar imágenes similares de una base de datos de imágenes, eliminar los ojos rojos de las imágenes tomadas con flash, seguir los movimientos de los ojos, reconocer el paisaje y establecer marcadores para revestirlo de realidad aumentada, etc.\n",
    "\n",
    "Descargar del sitio SourceForge\n",
    "\n",
    "(https://sourceforge.net/projects/opencvlibrary/?source=directory)\n"
   ]
  },
  {
   "cell_type": "markdown",
   "metadata": {},
   "source": [
    "## Instalación de OpenCV 3.4.0 en Python 3.6\n",
    "\n",
    "El proceso de instalación de OpenCV 3.4 y versiones superiores en Python 3.6 es simple, basta con ir a la ventana de programas y hacer click sobre la opción <span style=\"color:red;\">**Anaconda Prompt**</span>\n",
    "\n",
    "![Anaconda prompt](anacondaprompt.png)\n",
    "\n",
    "A continuación escribir en la linea de commandos la siguiente instrucción:\n",
    "\n",
    "<span style=\"color:blue;\">**pip install opencv-python-contrib**</span>\n",
    "\n",
    "conda install -c conda-forge opencv"
   ]
  },
  {
   "cell_type": "markdown",
   "metadata": {},
   "source": [
    "## Puesta a punto de OpenCV con Python (Versiones antiguas)\n",
    "\n",
    "<div class=\"alert alert-warning\" role=\"alert\" style=\"margin: 10px\">\n",
    "<p>\n",
    "Luego de descargar la última version de OpenCV y descomprimir los archivos en la carpeta <span style=\"color: red;\">**C:\\OpenCV**</span>, se procede a buscar el archivo <span style=\"color: red;\">**cv2.pyd**</span>, el cual se encuentra en el directorio:\n",
    "</p>\n",
    "<p>\n",
    "<span style=\"color:blue;\">- **Para Windows de 64 bits**: C:\\OpenCV\\opencv\\build\\python\\2.7\\x64</span>\n",
    "</p>\n",
    "<p>\n",
    "<span style=\"color:blue;\">- **Para Windows de 32 bits**: C:\\OpenCV\\opencv\\build\\python\\2.7\\x86</span>\n",
    "</p>\n",
    "<p>\n",
    "Este archivo debe ser copiado a la carpeta <span style=\"color: red;\">**C:\\Anaconda2\\Lib\\site-packages**</span>\n",
    "</p>\n",
    "</div>\n"
   ]
  },
  {
   "cell_type": "markdown",
   "metadata": {},
   "source": [
    "## Comprobación de la Instalación\n",
    "\n",
    "Con el fin de verificar que la libreria de OpenCV para Python CV2 funciona correctamente se procede con la ejecución de las siguientes instrucciones, las cuales deberan mostrar en pantalla la version actual de la libreria."
   ]
  },
  {
   "cell_type": "code",
   "execution_count": 4,
   "metadata": {},
   "outputs": [
    {
     "name": "stdout",
     "output_type": "stream",
     "text": [
      "3.4.0\n"
     ]
    }
   ],
   "source": [
    "import cv2\n",
    "print(cv2.__version__)"
   ]
  },
  {
   "cell_type": "markdown",
   "metadata": {},
   "source": [
    "## Lectura y Graficación de una Imágen"
   ]
  },
  {
   "cell_type": "markdown",
   "metadata": {},
   "source": [
    "### Con openCV"
   ]
  },
  {
   "cell_type": "code",
   "execution_count": 6,
   "metadata": {},
   "outputs": [],
   "source": [
    "import cv2\n",
    "\n",
    "img=cv2.imread(\"sol.jpg\")\n"
   ]
  },
  {
   "cell_type": "code",
   "execution_count": 15,
   "metadata": {
    "nbpresent": {
     "id": "251ba679-524a-4b3d-b924-5f374d4af488"
    }
   },
   "outputs": [
    {
     "data": {
      "text/plain": [
       "-1"
      ]
     },
     "execution_count": 15,
     "metadata": {},
     "output_type": "execute_result"
    }
   ],
   "source": [
    "cv2.imshow(\"Sol\",img)\n",
    "cv2.waitKey()"
   ]
  },
  {
   "cell_type": "markdown",
   "metadata": {},
   "source": [
    "### Con OpenCV y Matplotlib"
   ]
  },
  {
   "cell_type": "code",
   "execution_count": 14,
   "metadata": {},
   "outputs": [
    {
     "data": {
      "image/png": "[encoded data removed]",
      "text/plain": [
       "<matplotlib.figure.Figure at 0x1f7fc1d3400>"
      ]
     },
     "metadata": {},
     "output_type": "display_data"
    }
   ],
   "source": [
    "import cv2\n",
    "from matplotlib import pyplot as plt\n",
    "\n",
    "\n",
    "img=cv2.imread(\"sol.jpg\")\n",
    "img = cv2.cvtColor(img,cv2.COLOR_BGR2GRAY)\n",
    "plt.imshow(img, cmap = \"gray\")\n",
    "plt.show()"
   ]
  },
  {
   "cell_type": "code",
   "execution_count": 16,
   "metadata": {},
   "outputs": [
    {
     "data": {
      "text/plain": [
       "-1"
      ]
     },
     "execution_count": 16,
     "metadata": {},
     "output_type": "execute_result"
    }
   ],
   "source": [
    "import cv2\n",
    "img = cv2.imread('flores.jpg',cv2.IMREAD_GRAYSCALE)\n",
    "cv2.imshow('Imagen flores',img)\n",
    "cv2.waitKey()"
   ]
  },
  {
   "cell_type": "code",
   "execution_count": 17,
   "metadata": {},
   "outputs": [
    {
     "name": "stdout",
     "output_type": "stream",
     "text": [
      "[253 253 253] ['Blue', 'Green', 'Red']\n",
      "[111  71 206] ['Blue', 'Green', 'Red']\n"
     ]
    }
   ],
   "source": [
    "import cv2\n",
    "import numpy as np\n",
    "\n",
    "img = cv2.imread('flores.jpg', cv2.IMREAD_COLOR) \n",
    "\n",
    "print(img[0,0],[\"Blue\",\"Green\",\"Red\"])\n",
    "print(img[120,120],[\"Blue\",\"Green\",\"Red\"])"
   ]
  },
  {
   "cell_type": "code",
   "execution_count": 9,
   "metadata": {},
   "outputs": [
    {
     "name": "stdout",
     "output_type": "stream",
     "text": [
      "<class 'numpy.ndarray'>\n",
      "RGB shape:  (450, 600, 3)\n",
      "Tipo de datos imagen:  uint8\n",
      "Tamaño de la imagen (bits):  810000\n"
     ]
    }
   ],
   "source": [
    "import cv2\n",
    "import numpy as np\n",
    "\n",
    "img = cv2.imread('flores.jpg', cv2.IMREAD_COLOR)           \n",
    "\n",
    "print(type(img))\n",
    "print('RGB shape: ',img.shape)\n",
    "print('Tipo de datos imagen: ',img.dtype)\n",
    "print('Tamaño de la imagen (bits): ',img.size)"
   ]
  },
  {
   "cell_type": "code",
   "execution_count": 22,
   "metadata": {},
   "outputs": [
    {
     "data": {
      "image/png": "[encoded data removed]",
      "text/plain": [
       "<matplotlib.figure.Figure at 0x1f7fec97f60>"
      ]
     },
     "metadata": {},
     "output_type": "display_data"
    },
    {
     "data": {
      "text/plain": [
       "-1"
      ]
     },
     "execution_count": 22,
     "metadata": {},
     "output_type": "execute_result"
    }
   ],
   "source": [
    "import cv2\n",
    "import numpy as np\n",
    "from matplotlib import pyplot as plt\n",
    "\n",
    "img = cv2.imread('flores.jpg', cv2.IMREAD_GRAYSCALE)\n",
    "cv2.imshow('Imagen flores',img)\n",
    "\n",
    "hist = cv2.calcHist([img],[0],None,[256],[0,256])\n",
    "plt.hist(img.ravel(),256,[0,256])\n",
    "plt.title('Histograma Imagen flores')\n",
    "plt.show()\n",
    "\n",
    "cv2.waitKey()"
   ]
  },
  {
   "cell_type": "code",
   "execution_count": 11,
   "metadata": {},
   "outputs": [
    {
     "name": "stdout",
     "output_type": "stream",
     "text": [
      "ARGB shape: (450, 600, 3)\n",
      "[[149 158 160 162 174]\n",
      " [158 168 171 163 156]\n",
      " [171 165 165 162 151]\n",
      " [187 151 138 143 144]\n",
      " [187 140 117 120 121]]\n"
     ]
    }
   ],
   "source": [
    "import cv2\n",
    "import numpy as np\n",
    "from matplotlib import pyplot as plt\n",
    "\n",
    "img = cv2.imread('flores.jpg', cv2.IMREAD_UNCHANGED) # lee canal alfa de la imagen \n",
    "\n",
    "print('ARGB shape:',img.shape)\n",
    "\n",
    "print(img[170:175, 25:30, 2]) "
   ]
  },
  {
   "cell_type": "code",
   "execution_count": null,
   "metadata": {},
   "outputs": [
    {
     "name": "stdout",
     "output_type": "stream",
     "text": [
      "Imagen en escala de grises: (450, 600)\n",
      "[[ 89  91  86 ...  80 123 132]\n",
      " [101 105 104 ...  86 116 128]\n",
      " [116 108 106 ... 100  98 123]\n",
      " ...\n",
      " [ 96  86  88 ... 104 112 102]\n",
      " [ 75  91  86 ... 104 104  94]\n",
      " [ 83  88  89 ...  89  86  93]]\n"
     ]
    }
   ],
   "source": [
    "import cv2\n",
    "import numpy as np\n",
    "from matplotlib import pyplot as plt\n",
    "\n",
    "img = cv2.imread('flores.jpg', cv2.IMREAD_GRAYSCALE)\n",
    "\n",
    "print('Imagen en escala de grises:',img.shape)\n",
    "\n",
    "print(img[170:250, 25:100])\n",
    "\n",
    "cv2.imshow(\"Slice\",img[170:250,25:100])\n",
    "cv2.waitKey()"
   ]
  },
  {
   "cell_type": "code",
   "execution_count": 14,
   "metadata": {},
   "outputs": [
    {
     "data": {
      "text/plain": [
       "True"
      ]
     },
     "execution_count": 14,
     "metadata": {},
     "output_type": "execute_result"
    }
   ],
   "source": [
    "import cv2\n",
    "import numpy as np\n",
    "from matplotlib import pyplot as plt\n",
    "\n",
    "img = cv2.imread('flores.jpg', cv2.IMREAD_UNCHANGED)\n",
    "params = list()\n",
    "params.append(cv2.IMWRITE_PNG_COMPRESSION)\n",
    "params.append(9)\n",
    "\n",
    "cv2.imwrite(\"florescomp.png\",img,params)\n",
    "\n"
   ]
  },
  {
   "cell_type": "code",
   "execution_count": 15,
   "metadata": {},
   "outputs": [
    {
     "data": {
      "text/plain": [
       "-1"
      ]
     },
     "execution_count": 15,
     "metadata": {},
     "output_type": "execute_result"
    }
   ],
   "source": [
    "import cv2\n",
    "\n",
    "img = cv2.imread('flores.jpg', cv2.IMREAD_COLOR) \n",
    "img_gris=cv2.cvtColor(img,cv2.COLOR_BGR2GRAY)\n",
    "\n",
    "cv2.imshow(\"Imagen en grises\",img_gris)\n",
    "cv2.waitKey()"
   ]
  },
  {
   "cell_type": "code",
   "execution_count": 40,
   "metadata": {},
   "outputs": [
    {
     "data": {
      "text/plain": [
       "-1"
      ]
     },
     "execution_count": 40,
     "metadata": {},
     "output_type": "execute_result"
    }
   ],
   "source": [
    "import cv2\n",
    "img=cv2.imread('lena.bmp')\n",
    "b,g,r=cv2.split(img)\n",
    "\n",
    "cv2.imshow(\"Canal Azul\",b)\n",
    "cv2.imshow(\"Canal Verde\",g)\n",
    "cv2.imshow(\"Canal Rojo\",r)\n",
    "\n",
    "cv2.waitKey()"
   ]
  },
  {
   "cell_type": "code",
   "execution_count": 38,
   "metadata": {},
   "outputs": [
    {
     "data": {
      "text/plain": [
       "-1"
      ]
     },
     "execution_count": 38,
     "metadata": {},
     "output_type": "execute_result"
    }
   ],
   "source": [
    "import cv2\n",
    "img=cv2.imread('lena.bmp')\n",
    "b,g,r=cv2.split(img)\n",
    "\n",
    "img_brg = cv2.merge([b,r,g])\n",
    "img_bgr = cv2.merge([b,g,r])\n",
    "img_gbr = cv2.merge([g,b,r])\n",
    "img_grb = cv2.merge([g,r,b])\n",
    "img_rbg = cv2.merge([r,b,g])\n",
    "img_rgb = cv2.merge([r,g,b])\n",
    "\n",
    "cv2.imshow(\"Imagen B-R-G\",img_brg)\n",
    "cv2.imshow(\"Imagen B-G-R\",img_bgr)\n",
    "cv2.imshow(\"Imagen G-B-R\",img_gbr)\n",
    "cv2.imshow(\"Imagen G-R-B\",img_grb)\n",
    "cv2.imshow(\"Imagen R-B-G\",img_rbg)\n",
    "cv2.imshow(\"Imagen R-G-B\",img_rgb)\n",
    "\n",
    "cv2.waitKey()"
   ]
  },
  {
   "cell_type": "markdown",
   "metadata": {},
   "source": [
    "## Transformaciones Lineales"
   ]
  },
  {
   "cell_type": "code",
   "execution_count": null,
   "metadata": {
    "collapsed": true
   },
   "outputs": [],
   "source": [
    "import cv2\n",
    "import numpy as np\n",
    "\n",
    "#arr = np.array([100, 250, 255], dtype=np.uint8)\n",
    "A=np.array([[24,32,128],[200,50,72],[35,200,240]],dtype=np.uint8)\n",
    "\n",
    "cv2.add(A, 30, A)\n",
    "\n",
    "print(A)"
   ]
  },
  {
   "cell_type": "code",
   "execution_count": 160,
   "metadata": {
    "collapsed": true
   },
   "outputs": [],
   "source": [
    "import cv2\n",
    "import numpy as np\n",
    "\n",
    "img=cv2.imread('lena.bmp')\n",
    "b,g,r=cv2.split(img)\n",
    "\n",
    "cv2.imshow(\"Imagen Original\",b)\n",
    "\n",
    "cv2.add(b,50,b)\n",
    "\n",
    "cv2.imshow(\"Imagen Modificada\",b)\n",
    "\n",
    "cv2.waitKey()"
   ]
  },
  {
   "cell_type": "markdown",
   "metadata": {},
   "source": [
    "## Convolución"
   ]
  },
  {
   "cell_type": "code",
   "execution_count": null,
   "metadata": {
    "collapsed": true
   },
   "outputs": [],
   "source": [
    "import cv2\n",
    "from scipy import signal as sg\n",
    "import numpy as np\n",
    "\n",
    "img=cv2.imread('lena.bmp',cv2.IMREAD_GRAYSCALE)\n",
    "cv2.imshow(\"Imagen Original\",img)\n",
    "\n",
    "kernel=[[1.,-1.,1.],[-1., -1., -1.],[1., -1., 1.]]\n",
    "\n",
    "img_conv=np.uint8(sg.convolve2d(img,kernel, boundary='symm', mode='same'))\n",
    "\n",
    "cv2.imshow(\"Convolucion de la Imagen\",img_conv)  #pendiente por normalizar intensidad\n",
    "\n",
    "#print img_conv[0:12,0:12]\n",
    "\n",
    "cv2.waitKey()"
   ]
  },
  {
   "cell_type": "code",
   "execution_count": null,
   "metadata": {
    "collapsed": true
   },
   "outputs": [],
   "source": [
    "import cv2\n",
    "import numpy as np\n",
    "\n",
    "img = cv2.imread('encendido.png',0)\n",
    "cv2.imshow(\"lena\",img)\n",
    "f = np.fft.fft2(img)\n",
    "fshift = np.fft.fftshift(f)\n",
    "espectro = np.uint8(15*np.log(np.abs(fshift)))\n",
    "\n",
    "cv2.imshow(\"Magnitud del Espectro\",espectro)\n",
    "\n",
    "cv2.waitKey()"
   ]
  },
  {
   "cell_type": "code",
   "execution_count": null,
   "metadata": {
    "collapsed": true
   },
   "outputs": [],
   "source": [
    "    #ifftshift() # crear ejemplo\n",
    "    #ifft2()"
   ]
  },
  {
   "cell_type": "code",
   "execution_count": null,
   "metadata": {
    "collapsed": true
   },
   "outputs": [],
   "source": [
    "import numpy as np\n",
    "import cv2\n",
    "from matplotlib import pyplot as plt\n",
    "\n",
    "img = cv2.imread('lena.bmp',0)\n",
    "\n",
    "img_float32 = np.float32(img)\n",
    "\n",
    "dft = cv2.dft(img_float32, flags = cv2.DFT_COMPLEX_OUTPUT)\n",
    "dft_shift = np.fft.fftshift(dft)\n",
    "\n",
    "rows, cols = img.shape\n",
    "crow, ccol = rows/2 , cols/2     # center\n",
    "\n",
    "# create a mask first, center square is 1, remaining all zeros\n",
    "mask = np.zeros((rows, cols, 2), np.uint8)\n",
    "mask[crow-30:crow+30, ccol-30:ccol+30] = 1\n",
    "\n",
    "# apply mask and inverse DFT\n",
    "fshift = dft_shift*mask\n",
    "f_ishift = np.fft.ifftshift(fshift)\n",
    "img_back = cv2.idft(f_ishift)\n",
    "img_back = cv2.magnitude(img_back[:,:,0],img_back[:,:,1])\n",
    "\n",
    "plt.subplot(121),plt.imshow(img, cmap = 'gray')\n",
    "plt.title('Input Image'), plt.xticks([]), plt.yticks([])\n",
    "plt.subplot(122),plt.imshow(img_back, cmap = 'gray')\n",
    "plt.title('Magnitude Spectrum'), plt.xticks([]), plt.yticks([])\n",
    "\n",
    "plt.show()  \n",
    "\n",
    "#cv2.dft() \n",
    "#cv2.idft()"
   ]
  },
  {
   "cell_type": "code",
   "execution_count": null,
   "metadata": {
    "collapsed": true
   },
   "outputs": [],
   "source": [
    "import cv2\n",
    "import numpy as np\n",
    "from matplotlib import pyplot as plt\n",
    "\n",
    "img = cv2.imread('lena.bmp', -1)\n",
    "cv2.imshow('Lena',img)\n",
    "\n",
    "color = ('b','g','r')\n",
    "for channel,col in enumerate(color):\n",
    "    histr = cv2.calcHist([img],[channel],None,[256],[0,256])\n",
    "    plt.plot(histr,color = col)\n",
    "    plt.xlim([0,256])\n",
    "    \n",
    "plt.title('Histogram for color scale picture')\n",
    "plt.show()\n",
    "\n",
    "while True:\n",
    "    k = cv2.waitKey(0) & 0xFF     \n",
    "    if k == 27: break             # ESC key to exit \n",
    "cv2.destroyAllWindows()"
   ]
  },
  {
   "cell_type": "code",
   "execution_count": null,
   "metadata": {
    "collapsed": true
   },
   "outputs": [],
   "source": [
    "import cv2\n",
    "import numpy as np\n",
    "from matplotlib import pyplot as plt\n",
    "\n",
    "img = cv2.imread('lena.bmp',0)\n",
    "ret,thresh1 = cv2.threshold(img,127,255,cv2.THRESH_BINARY)\n",
    "ret,thresh2 = cv2.threshold(img,127,255,cv2.THRESH_BINARY_INV)\n",
    "ret,thresh3 = cv2.threshold(img,127,255,cv2.THRESH_TRUNC)\n",
    "ret,thresh4 = cv2.threshold(img,127,255,cv2.THRESH_TOZERO)\n",
    "ret,thresh5 = cv2.threshold(img,127,255,cv2.THRESH_TOZERO_INV)\n",
    "\n",
    "titles = ['Original Image','BINARY','BINARY_INV','TRUNC','TOZERO','TOZERO_INV']\n",
    "images = [img, thresh1, thresh2, thresh3, thresh4, thresh5]\n",
    "\n",
    "for i in range(6):\n",
    "    plt.subplot(2,3,i+1),plt.imshow(images[i],'gray')\n",
    "    plt.title(titles[i])\n",
    "    plt.xticks([]),plt.yticks([])\n",
    "\n",
    "plt.show()"
   ]
  },
  {
   "cell_type": "code",
   "execution_count": null,
   "metadata": {
    "collapsed": true
   },
   "outputs": [],
   "source": [
    "import cv2\n",
    "import numpy as np\n",
    "from matplotlib import pyplot as plt\n",
    "\n",
    "img = cv2.imread('lena.bmp',0)\n",
    "img = cv2.medianBlur(img,5)\n",
    "\n",
    "ret,th1 = cv2.threshold(img,127,255,cv2.THRESH_BINARY)\n",
    "th2 = cv2.adaptiveThreshold(img,255,cv2.ADAPTIVE_THRESH_MEAN_C,\\\n",
    "            cv2.THRESH_BINARY,11,2)\n",
    "th3 = cv2.adaptiveThreshold(img,255,cv2.ADAPTIVE_THRESH_GAUSSIAN_C,\\\n",
    "            cv2.THRESH_BINARY,11,2)\n",
    "\n",
    "titles = ['Original Image', 'Global Thresholding (v = 127)',\n",
    "            'Adaptive Mean Thresholding', 'Adaptive Gaussian Thresholding']\n",
    "images = [img, th1, th2, th3]\n",
    "\n",
    "for i in range(4):\n",
    "    plt.subplot(2,2,i+1),plt.imshow(images[i],'gray')\n",
    "    plt.title(titles[i])\n",
    "    plt.xticks([]),plt.yticks([])\n",
    "plt.show()"
   ]
  },
  {
   "cell_type": "code",
   "execution_count": null,
   "metadata": {
    "collapsed": true
   },
   "outputs": [],
   "source": [
    "import cv2\n",
    "import numpy as np\n",
    "from matplotlib import pyplot as plt\n",
    "\n",
    "img = cv2.imread('lena.bmp',0)\n",
    "\n",
    "# global thresholding\n",
    "ret1,th1 = cv2.threshold(img,127,255,cv2.THRESH_BINARY)\n",
    "\n",
    "# Otsu's thresholding\n",
    "ret2,th2 = cv2.threshold(img,0,255,cv2.THRESH_BINARY+cv2.THRESH_OTSU)\n",
    "\n",
    "# Otsu's thresholding after Gaussian filtering\n",
    "blur = cv2.GaussianBlur(img,(5,5),0)\n",
    "ret3,th3 = cv2.threshold(blur,0,255,cv2.THRESH_BINARY+cv2.THRESH_OTSU)\n",
    "\n",
    "# plot all the images and their histograms\n",
    "images = [img, 0, th1,\n",
    "          img, 0, th2,\n",
    "          blur, 0, th3]\n",
    "titles = ['Original Noisy Image','Histogram','Global Thresholding (v=127)',\n",
    "          'Original Noisy Image','Histogram',\"Otsu's Thresholding\",\n",
    "          'Gaussian filtered Image','Histogram',\"Otsu's Thresholding\"]\n",
    "\n",
    "for i in range(3):\n",
    "    plt.subplot(3,3,i*3+1),plt.imshow(images[i*3],'gray')\n",
    "    plt.title(titles[i*3]), plt.xticks([]), plt.yticks([])\n",
    "    plt.subplot(3,3,i*3+2),plt.hist(images[i*3].ravel(),256)\n",
    "    plt.title(titles[i*3+1]), plt.xticks([]), plt.yticks([])\n",
    "    plt.subplot(3,3,i*3+3),plt.imshow(images[i*3+2],'gray')\n",
    "    plt.title(titles[i*3+2]), plt.xticks([]), plt.yticks([])\n",
    "plt.show()"
   ]
  },
  {
   "cell_type": "code",
   "execution_count": null,
   "metadata": {
    "collapsed": true
   },
   "outputs": [],
   "source": [
    "import cv2\n",
    "import numpy as np\n",
    "from matplotlib import pyplot as plt\n",
    "\n",
    "# loading image\n",
    "#img0 = cv2.imread('SanFrancisco.jpg',)\n",
    "img0 = cv2.imread('lena.bmp',)\n",
    "\n",
    "# converting to gray scale\n",
    "gray = cv2.cvtColor(img0, cv2.COLOR_BGR2GRAY)\n",
    "\n",
    "# remove noise\n",
    "img = cv2.GaussianBlur(gray,(3,3),0)\n",
    "\n",
    "# convolute with proper kernels\n",
    "laplacian = cv2.Laplacian(img,cv2.CV_64F)\n",
    "sobelx = cv2.Sobel(img,cv2.CV_64F,1,0,ksize=5)  # x\n",
    "sobely = cv2.Sobel(img,cv2.CV_64F,0,1,ksize=5)  # y\n",
    "\n",
    "plt.subplot(2,2,1),plt.imshow(img,cmap = 'gray')\n",
    "plt.title('Original'), plt.xticks([]), plt.yticks([])\n",
    "plt.subplot(2,2,2),plt.imshow(laplacian,cmap = 'gray')\n",
    "plt.title('Laplacian'), plt.xticks([]), plt.yticks([])\n",
    "plt.subplot(2,2,3),plt.imshow(sobelx,cmap = 'gray')\n",
    "plt.title('Sobel X'), plt.xticks([]), plt.yticks([])\n",
    "plt.subplot(2,2,4),plt.imshow(sobely,cmap = 'gray')\n",
    "plt.title('Sobel Y'), plt.xticks([]), plt.yticks([])\n",
    "\n",
    "plt.show()"
   ]
  },
  {
   "cell_type": "code",
   "execution_count": null,
   "metadata": {
    "collapsed": true
   },
   "outputs": [],
   "source": [
    "import cv2\n",
    "import matplotlib.pyplot as plt\n",
    "\n",
    "img = cv2.imread('lena.bmp',0)\n",
    "edges = cv2.Canny(img,100,200)\n",
    "\n",
    "plt.subplot(121),plt.imshow(img,cmap = 'gray')\n",
    "plt.title('Original Image'), plt.xticks([]), plt.yticks([])\n",
    "plt.subplot(122),plt.imshow(edges,cmap = 'gray')\n",
    "plt.title('Edge Image'), plt.xticks([]), plt.yticks([])\n",
    "\n",
    "plt.show()"
   ]
  },
  {
   "cell_type": "markdown",
   "metadata": {},
   "source": [
    "## Transformada de Hough"
   ]
  },
  {
   "cell_type": "code",
   "execution_count": null,
   "metadata": {
    "collapsed": true
   },
   "outputs": [],
   "source": [
    "import cv2\n",
    "import numpy as np\n",
    "from matplotlib import pyplot as plt\n",
    "\n",
    "bgr_img = cv2.imread('circulos.png') # read as it is\n",
    "\n",
    "if bgr_img.shape[-1] == 3:           # color image\n",
    "    b,g,r = cv2.split(bgr_img)       # get b,g,r\n",
    "    rgb_img = cv2.merge([r,g,b])     # switch it to rgb\n",
    "    gray_img = cv2.cvtColor(bgr_img, cv2.COLOR_BGR2GRAY)\n",
    "else:\n",
    "    gray_img = bgr_img\n",
    "\n",
    "img = cv2.medianBlur(gray_img, 5)\n",
    "cimg = cv2.cvtColor(img,cv2.COLOR_GRAY2BGR)\n",
    "\n",
    "circles = cv2.HoughCircles(img,cv2.HOUGH_GRADIENT,1,20,param1=50,param2=30,minRadius=0,maxRadius=0)\n",
    "\n",
    "circles = np.uint16(np.around(circles))\n",
    "\n",
    "for i in circles[0,:]:\n",
    "    # draw the outer circle\n",
    "    cv2.circle(cimg,(i[0],i[1]),i[2],(0,255,0),2)\n",
    "    # draw the center of the circle\n",
    "    cv2.circle(cimg,(i[0],i[1]),2,(0,0,255),3)\n",
    "\n",
    "plt.subplot(121),plt.imshow(rgb_img)\n",
    "plt.title('Imagen Original'), plt.xticks([]), plt.yticks([])\n",
    "plt.subplot(122),plt.imshow(cimg)\n",
    "plt.title('Transformada de Hough'), plt.xticks([]), plt.yticks([])\n",
    "plt.show()"
   ]
  },
  {
   "cell_type": "markdown",
   "metadata": {},
   "source": [
    "## Detección de Personas"
   ]
  },
  {
   "cell_type": "code",
   "execution_count": null,
   "metadata": {
    "collapsed": true
   },
   "outputs": [],
   "source": [
    "import cv2\n",
    "import numpy as np\n",
    "\n",
    "def is_inside(o, i):\n",
    "    ox, oy, ow, oh = o\n",
    "    ix, iy, iw, ih = i\n",
    "    return ox > ix and oy > iy and ox + ow < ix + iw and oy + oh < iy + ih\n",
    "\n",
    "def draw_person(image, person):\n",
    "    x, y, w, h = person\n",
    "    cv2.rectangle(img, (x, y), (x + w, y + h), (0, 255, 255), 2)\n",
    "\n",
    "img = cv2.imread(\"mujeres02.jpg\")\n",
    "hog = cv2.HOGDescriptor()\n",
    "hog.setSVMDetector(cv2.HOGDescriptor_getDefaultPeopleDetector())\n",
    "\n",
    "found, w = hog.detectMultiScale(img,winStride=(2,2), padding=(24,24), scale=1.1)\n",
    "found_filtered = []\n",
    "\n",
    "for ri, r in enumerate(found):\n",
    "    for qi, q in enumerate(found):\n",
    "        if ri != qi and is_inside(r, q):\n",
    "            break\n",
    "    else:\n",
    "        found_filtered.append(r)\n",
    "\n",
    "for person in found: #found_filtered:\n",
    "    draw_person(img, person)\n",
    "\n",
    "cv2.imshow(\"Deteccion de Personas\", img)\n",
    "cv2.waitKey(0)\n",
    "cv2.destroyAllWindows()"
   ]
  }
 ],
 "metadata": {
  "anaconda-cloud": {},
  "kernelspec": {
   "display_name": "Python 3",
   "language": "python",
   "name": "python3"
  },
  "language_info": {
   "codemirror_mode": {
    "name": "ipython",
    "version": 3
   },
   "file_extension": ".py",
   "mimetype": "text/x-python",
   "name": "python",
   "nbconvert_exporter": "python",
   "pygments_lexer": "ipython3",
   "version": "3.6.7"
  },
  "nbpresent": {
   "slides": {
    "39a03ecd-76d2-42fa-a68a-0302f623ddaa": {
     "id": "39a03ecd-76d2-42fa-a68a-0302f623ddaa",
     "prev": "650184f9-1036-47f8-b426-b46044aeb5ba",
     "regions": {
      "921e7f32-256a-4769-a556-5b4e5eb2e978": {
       "attrs": {
        "height": 0.8,
        "width": 0.8,
        "x": 0.1,
        "y": 0.1
       },
       "content": {
        "cell": "868c373e-b504-4272-bbf9-26159e21ca61",
        "part": "whole"
       },
       "id": "921e7f32-256a-4769-a556-5b4e5eb2e978"
      }
     }
    },
    "3c4e118c-d885-48a8-8166-4276b7519888": {
     "id": "3c4e118c-d885-48a8-8166-4276b7519888",
     "prev": null,
     "regions": {
      "345d22b5-11b3-4890-bed0-ab279c7007be": {
       "attrs": {
        "height": 0.8,
        "width": 0.8,
        "x": 0.1,
        "y": 0.1
       },
       "content": {
        "cell": "cd6f56ca-952f-43de-9ec4-77f247e333c5",
        "part": "whole"
       },
       "id": "345d22b5-11b3-4890-bed0-ab279c7007be"
      }
     }
    },
    "650184f9-1036-47f8-b426-b46044aeb5ba": {
     "id": "650184f9-1036-47f8-b426-b46044aeb5ba",
     "prev": "3c4e118c-d885-48a8-8166-4276b7519888",
     "regions": {
      "f0ab4159-3a2e-48bc-b725-75b673810c90": {
       "attrs": {
        "height": 0.8,
        "width": 0.8,
        "x": 0.1,
        "y": 0.1
       },
       "content": {
        "cell": "251ba679-524a-4b3d-b924-5f374d4af488",
        "part": "whole"
       },
       "id": "f0ab4159-3a2e-48bc-b725-75b673810c90"
      }
     }
    }
   },
   "themes": {}
  }
 },
 "nbformat": 4,
 "nbformat_minor": 1
}
