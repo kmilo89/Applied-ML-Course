{
 "cells": [
  {
   "cell_type": "code",
   "execution_count": 16,
   "id": "9914454e",
   "metadata": {},
   "outputs": [],
   "source": [
    "import numpy as np\n",
    "import tensorflow as tf\n",
    "import matplotlib.pyplot as plt\n",
    "from sklearn.metrics import classification_report, confusion_matrix\n",
    "\n",
    "SEED = 42\n",
    "tf.random.set_seed(SEED)\n",
    "np.random.seed(SEED)\n",
    "\n",
    "def set_mixed_precision(enable_amp: bool):\n",
    "    if enable_amp:\n",
    "        tf.keras.mixed_precision.set_global_policy(\"mixed_float16\")\n",
    "        print(\"AMP habilitado (mixed_float16).\")\n",
    "    else:\n",
    "        tf.keras.mixed_precision.set_global_policy(\"float32\")\n",
    "        print(\"AMP deshabilitado.\")"
   ]
  },
  {
   "cell_type": "code",
   "execution_count": 17,
   "id": "712f5625",
   "metadata": {},
   "outputs": [
    {
     "name": "stdout",
     "output_type": "stream",
     "text": [
      "AMP habilitado (mixed_float16).\n"
     ]
    }
   ],
   "source": [
    "IMG_SIZE = 224\n",
    "BATCH = 64\n",
    "EPOCHS = 10\n",
    "LR = 3e-4\n",
    "WEIGHT_DECAY = 1e-4\n",
    "LABEL_SMOOTH = 0.0\n",
    "FREEZE_BACKBONE = True\n",
    "USE_AMP = True\n",
    "\n",
    "set_mixed_precision(USE_AMP)\n"
   ]
  },
  {
   "cell_type": "code",
   "execution_count": 18,
   "id": "97ffe10e",
   "metadata": {},
   "outputs": [
    {
     "name": "stdout",
     "output_type": "stream",
     "text": [
      "Downloading data from https://www.cs.toronto.edu/~kriz/cifar-10-python.tar.gz\n",
      "\u001b[1m170498071/170498071\u001b[0m \u001b[32m━━━━━━━━━━━━━━━━━━━━\u001b[0m\u001b[37m\u001b[0m \u001b[1m16s\u001b[0m 0us/step\n",
      "Train: (8000, 32, 32, 3) [3993 4007]\n",
      "Val:   (2000, 32, 32, 3) [1007  993]\n",
      "Test:  (2000, 32, 32, 3) [1000 1000]\n"
     ]
    }
   ],
   "source": [
    "# Carga CIFAR-10\n",
    "(x_train, y_train), (x_test, y_test) = tf.keras.datasets.cifar10.load_data()\n",
    "y_train = y_train.squeeze()\n",
    "y_test  = y_test.squeeze()\n",
    "\n",
    "# Filtro binario: cat=3, dog=5 -> mapeamos a {0: cat, 1: dog}\n",
    "def filter_cats_dogs(x, y):\n",
    "    mask = np.isin(y, [3, 5])\n",
    "    x = x[mask]\n",
    "    y = y[mask]\n",
    "    y = (y == 5).astype(np.int32)  # 0=cat, 1=dog\n",
    "    return x, y\n",
    "\n",
    "x_train, y_train = filter_cats_dogs(x_train, y_train)\n",
    "x_test,  y_test  = filter_cats_dogs(x_test,  y_test)\n",
    "\n",
    "# Split validación desde train (80/20)\n",
    "n = len(x_train)\n",
    "idx = np.random.permutation(n)\n",
    "split = int(0.8 * n)\n",
    "tr_idx, val_idx = idx[:split], idx[split:]\n",
    "x_val, y_val = x_train[val_idx], y_train[val_idx]\n",
    "x_train, y_train = x_train[tr_idx], y_train[tr_idx]\n",
    "\n",
    "class_names = [\"cat\", \"dog\"]\n",
    "print(\"Train:\", x_train.shape, np.bincount(y_train))\n",
    "print(\"Val:  \", x_val.shape,   np.bincount(y_val))\n",
    "print(\"Test: \", x_test.shape,  np.bincount(y_test))\n"
   ]
  },
  {
   "cell_type": "code",
   "execution_count": 19,
   "id": "06c89dc9",
   "metadata": {},
   "outputs": [],
   "source": [
    "from tensorflow.keras import layers\n",
    "\n",
    "AUTOTUNE = tf.data.AUTOTUNE\n",
    "Preprocess = tf.keras.applications.resnet50.preprocess_input\n",
    "\n",
    "# Aumentos ligeros\n",
    "augment = tf.keras.Sequential([\n",
    "    layers.RandomFlip(\"horizontal\"),\n",
    "    layers.RandomRotation(0.05),\n",
    "    layers.RandomZoom(0.1),\n",
    "    layers.RandomContrast(0.1),\n",
    "], name=\"augment\")\n",
    "\n",
    "def make_ds(x, y, train=True):\n",
    "    y = tf.one_hot(y, depth=2)\n",
    "    ds = tf.data.Dataset.from_tensor_slices((x, y))\n",
    "    if train:\n",
    "        ds = ds.shuffle(10000, seed=SEED)\n",
    "    # Casting + resize + augment + preprocess\n",
    "    def _map(img, label):\n",
    "        img = tf.cast(img, tf.float32)\n",
    "        img = tf.image.resize(img, (IMG_SIZE, IMG_SIZE))\n",
    "        if train:\n",
    "            img = augment(img, training=True)\n",
    "        img = Preprocess(img)\n",
    "        return img, label\n",
    "    ds = ds.map(_map, num_parallel_calls=AUTOTUNE).batch(BATCH).prefetch(AUTOTUNE)\n",
    "    return ds\n",
    "\n",
    "train_ds = make_ds(x_train, y_train, train=True)\n",
    "val_ds   = make_ds(x_val,   y_val,   train=False)\n",
    "test_ds  = make_ds(x_test,  y_test,  train=False)\n"
   ]
  },
  {
   "cell_type": "code",
   "execution_count": 20,
   "id": "78ccd98b",
   "metadata": {},
   "outputs": [
    {
     "name": "stdout",
     "output_type": "stream",
     "text": [
      "Class weights: {0: 1.0017529726028442, 1: 0.9982529878616333}\n"
     ]
    }
   ],
   "source": [
    "counts = np.bincount(y_train, minlength=2).astype(np.float32)\n",
    "total = counts.sum()\n",
    "weights = (1.0 / np.maximum(counts, 1.0)) * (total / len(counts))\n",
    "class_weight = {i: float(w) for i, w in enumerate(weights)}\n",
    "print(\"Class weights:\", class_weight)\n"
   ]
  },
  {
   "cell_type": "code",
   "execution_count": 21,
   "id": "a9fcf40a",
   "metadata": {},
   "outputs": [
    {
     "name": "stdout",
     "output_type": "stream",
     "text": [
      "Downloading data from https://storage.googleapis.com/tensorflow/keras-applications/resnet/resnet50_weights_tf_dim_ordering_tf_kernels_notop.h5\n",
      "\u001b[1m94765736/94765736\u001b[0m \u001b[32m━━━━━━━━━━━━━━━━━━━━\u001b[0m\u001b[37m\u001b[0m \u001b[1m3s\u001b[0m 0us/step\n"
     ]
    },
    {
     "data": {
      "text/html": [
       "<pre style=\"white-space:pre;overflow-x:auto;line-height:normal;font-family:Menlo,'DejaVu Sans Mono',consolas,'Courier New',monospace\"><span style=\"font-weight: bold\">Model: \"functional_2\"</span>\n",
       "</pre>\n"
      ],
      "text/plain": [
       "\u001b[1mModel: \"functional_2\"\u001b[0m\n"
      ]
     },
     "metadata": {},
     "output_type": "display_data"
    },
    {
     "data": {
      "text/html": [
       "<pre style=\"white-space:pre;overflow-x:auto;line-height:normal;font-family:Menlo,'DejaVu Sans Mono',consolas,'Courier New',monospace\">┏━━━━━━━━━━━━━━━━━━━━━━━━━━━━━━━━━┳━━━━━━━━━━━━━━━━━━━━━━━━┳━━━━━━━━━━━━━━━┓\n",
       "┃<span style=\"font-weight: bold\"> Layer (type)                    </span>┃<span style=\"font-weight: bold\"> Output Shape           </span>┃<span style=\"font-weight: bold\">       Param # </span>┃\n",
       "┡━━━━━━━━━━━━━━━━━━━━━━━━━━━━━━━━━╇━━━━━━━━━━━━━━━━━━━━━━━━╇━━━━━━━━━━━━━━━┩\n",
       "│ input_layer_4 (<span style=\"color: #0087ff; text-decoration-color: #0087ff\">InputLayer</span>)      │ (<span style=\"color: #00d7ff; text-decoration-color: #00d7ff\">None</span>, <span style=\"color: #00af00; text-decoration-color: #00af00\">224</span>, <span style=\"color: #00af00; text-decoration-color: #00af00\">224</span>, <span style=\"color: #00af00; text-decoration-color: #00af00\">3</span>)    │             <span style=\"color: #00af00; text-decoration-color: #00af00\">0</span> │\n",
       "├─────────────────────────────────┼────────────────────────┼───────────────┤\n",
       "│ resnet50 (<span style=\"color: #0087ff; text-decoration-color: #0087ff\">Functional</span>)           │ (<span style=\"color: #00d7ff; text-decoration-color: #00d7ff\">None</span>, <span style=\"color: #00af00; text-decoration-color: #00af00\">7</span>, <span style=\"color: #00af00; text-decoration-color: #00af00\">7</span>, <span style=\"color: #00af00; text-decoration-color: #00af00\">2048</span>)     │    <span style=\"color: #00af00; text-decoration-color: #00af00\">23,587,712</span> │\n",
       "├─────────────────────────────────┼────────────────────────┼───────────────┤\n",
       "│ global_average_pooling2d_1      │ (<span style=\"color: #00d7ff; text-decoration-color: #00d7ff\">None</span>, <span style=\"color: #00af00; text-decoration-color: #00af00\">2048</span>)           │             <span style=\"color: #00af00; text-decoration-color: #00af00\">0</span> │\n",
       "│ (<span style=\"color: #0087ff; text-decoration-color: #0087ff\">GlobalAveragePooling2D</span>)        │                        │               │\n",
       "├─────────────────────────────────┼────────────────────────┼───────────────┤\n",
       "│ dropout_1 (<span style=\"color: #0087ff; text-decoration-color: #0087ff\">Dropout</span>)             │ (<span style=\"color: #00d7ff; text-decoration-color: #00d7ff\">None</span>, <span style=\"color: #00af00; text-decoration-color: #00af00\">2048</span>)           │             <span style=\"color: #00af00; text-decoration-color: #00af00\">0</span> │\n",
       "├─────────────────────────────────┼────────────────────────┼───────────────┤\n",
       "│ dense_1 (<span style=\"color: #0087ff; text-decoration-color: #0087ff\">Dense</span>)                 │ (<span style=\"color: #00d7ff; text-decoration-color: #00d7ff\">None</span>, <span style=\"color: #00af00; text-decoration-color: #00af00\">2</span>)              │         <span style=\"color: #00af00; text-decoration-color: #00af00\">4,098</span> │\n",
       "└─────────────────────────────────┴────────────────────────┴───────────────┘\n",
       "</pre>\n"
      ],
      "text/plain": [
       "┏━━━━━━━━━━━━━━━━━━━━━━━━━━━━━━━━━┳━━━━━━━━━━━━━━━━━━━━━━━━┳━━━━━━━━━━━━━━━┓\n",
       "┃\u001b[1m \u001b[0m\u001b[1mLayer (type)                   \u001b[0m\u001b[1m \u001b[0m┃\u001b[1m \u001b[0m\u001b[1mOutput Shape          \u001b[0m\u001b[1m \u001b[0m┃\u001b[1m \u001b[0m\u001b[1m      Param #\u001b[0m\u001b[1m \u001b[0m┃\n",
       "┡━━━━━━━━━━━━━━━━━━━━━━━━━━━━━━━━━╇━━━━━━━━━━━━━━━━━━━━━━━━╇━━━━━━━━━━━━━━━┩\n",
       "│ input_layer_4 (\u001b[38;5;33mInputLayer\u001b[0m)      │ (\u001b[38;5;45mNone\u001b[0m, \u001b[38;5;34m224\u001b[0m, \u001b[38;5;34m224\u001b[0m, \u001b[38;5;34m3\u001b[0m)    │             \u001b[38;5;34m0\u001b[0m │\n",
       "├─────────────────────────────────┼────────────────────────┼───────────────┤\n",
       "│ resnet50 (\u001b[38;5;33mFunctional\u001b[0m)           │ (\u001b[38;5;45mNone\u001b[0m, \u001b[38;5;34m7\u001b[0m, \u001b[38;5;34m7\u001b[0m, \u001b[38;5;34m2048\u001b[0m)     │    \u001b[38;5;34m23,587,712\u001b[0m │\n",
       "├─────────────────────────────────┼────────────────────────┼───────────────┤\n",
       "│ global_average_pooling2d_1      │ (\u001b[38;5;45mNone\u001b[0m, \u001b[38;5;34m2048\u001b[0m)           │             \u001b[38;5;34m0\u001b[0m │\n",
       "│ (\u001b[38;5;33mGlobalAveragePooling2D\u001b[0m)        │                        │               │\n",
       "├─────────────────────────────────┼────────────────────────┼───────────────┤\n",
       "│ dropout_1 (\u001b[38;5;33mDropout\u001b[0m)             │ (\u001b[38;5;45mNone\u001b[0m, \u001b[38;5;34m2048\u001b[0m)           │             \u001b[38;5;34m0\u001b[0m │\n",
       "├─────────────────────────────────┼────────────────────────┼───────────────┤\n",
       "│ dense_1 (\u001b[38;5;33mDense\u001b[0m)                 │ (\u001b[38;5;45mNone\u001b[0m, \u001b[38;5;34m2\u001b[0m)              │         \u001b[38;5;34m4,098\u001b[0m │\n",
       "└─────────────────────────────────┴────────────────────────┴───────────────┘\n"
      ]
     },
     "metadata": {},
     "output_type": "display_data"
    },
    {
     "data": {
      "text/html": [
       "<pre style=\"white-space:pre;overflow-x:auto;line-height:normal;font-family:Menlo,'DejaVu Sans Mono',consolas,'Courier New',monospace\"><span style=\"font-weight: bold\"> Total params: </span><span style=\"color: #00af00; text-decoration-color: #00af00\">23,591,810</span> (90.00 MB)\n",
       "</pre>\n"
      ],
      "text/plain": [
       "\u001b[1m Total params: \u001b[0m\u001b[38;5;34m23,591,810\u001b[0m (90.00 MB)\n"
      ]
     },
     "metadata": {},
     "output_type": "display_data"
    },
    {
     "data": {
      "text/html": [
       "<pre style=\"white-space:pre;overflow-x:auto;line-height:normal;font-family:Menlo,'DejaVu Sans Mono',consolas,'Courier New',monospace\"><span style=\"font-weight: bold\"> Trainable params: </span><span style=\"color: #00af00; text-decoration-color: #00af00\">4,098</span> (16.01 KB)\n",
       "</pre>\n"
      ],
      "text/plain": [
       "\u001b[1m Trainable params: \u001b[0m\u001b[38;5;34m4,098\u001b[0m (16.01 KB)\n"
      ]
     },
     "metadata": {},
     "output_type": "display_data"
    },
    {
     "data": {
      "text/html": [
       "<pre style=\"white-space:pre;overflow-x:auto;line-height:normal;font-family:Menlo,'DejaVu Sans Mono',consolas,'Courier New',monospace\"><span style=\"font-weight: bold\"> Non-trainable params: </span><span style=\"color: #00af00; text-decoration-color: #00af00\">23,587,712</span> (89.98 MB)\n",
       "</pre>\n"
      ],
      "text/plain": [
       "\u001b[1m Non-trainable params: \u001b[0m\u001b[38;5;34m23,587,712\u001b[0m (89.98 MB)\n"
      ]
     },
     "metadata": {},
     "output_type": "display_data"
    }
   ],
   "source": [
    "from tensorflow.keras import models\n",
    "\n",
    "base = tf.keras.applications.ResNet50(\n",
    "    include_top=False,\n",
    "    weights=\"imagenet\",\n",
    "    input_shape=(IMG_SIZE, IMG_SIZE, 3)\n",
    ")\n",
    "base.trainable = not FREEZE_BACKBONE\n",
    "\n",
    "inputs = layers.Input(shape=(IMG_SIZE, IMG_SIZE, 3))\n",
    "x = base(inputs, training=False)          # BN en modo inference al inicio\n",
    "x = layers.GlobalAveragePooling2D()(x)\n",
    "x = layers.Dropout(0.25)(x)\n",
    "dtype_head = \"float32\" if tf.keras.mixed_precision.global_policy().name == \"mixed_float16\" else None\n",
    "outputs = layers.Dense(2, activation=\"softmax\", dtype=dtype_head)(x)\n",
    "model = models.Model(inputs, outputs)\n",
    "model.summary()\n"
   ]
  },
  {
   "cell_type": "code",
   "execution_count": 22,
   "id": "55a0b359",
   "metadata": {},
   "outputs": [],
   "source": [
    "optimizer = tf.keras.optimizers.AdamW(learning_rate=LR, weight_decay=WEIGHT_DECAY)\n",
    "loss = tf.keras.losses.CategoricalCrossentropy(label_smoothing=LABEL_SMOOTH)\n",
    "metrics = [\n",
    "    tf.keras.metrics.CategoricalAccuracy(name=\"acc\"),\n",
    "    tf.keras.metrics.AUC(name=\"auc\"),\n",
    "    tf.keras.metrics.Precision(name=\"precision\"),\n",
    "    tf.keras.metrics.Recall(name=\"recall\"),\n",
    "]\n",
    "model.compile(optimizer=optimizer, loss=loss, metrics=metrics)\n"
   ]
  },
  {
   "cell_type": "code",
   "execution_count": 23,
   "id": "bd739720",
   "metadata": {},
   "outputs": [
    {
     "name": "stdout",
     "output_type": "stream",
     "text": [
      "Epoch 1/10\n"
     ]
    },
    {
     "name": "stderr",
     "output_type": "stream",
     "text": [
      "2025-09-05 06:03:57.300477: W external/local_xla/xla/tsl/framework/cpu_allocator_impl.cc:83] Allocation of 102760448 exceeds 10% of free system memory.\n",
      "2025-09-05 06:03:57.524074: W external/local_xla/xla/tsl/framework/cpu_allocator_impl.cc:83] Allocation of 205520896 exceeds 10% of free system memory.\n",
      "2025-09-05 06:03:57.669484: W external/local_xla/xla/tsl/framework/cpu_allocator_impl.cc:83] Allocation of 102760448 exceeds 10% of free system memory.\n",
      "2025-09-05 06:03:57.767490: W external/local_xla/xla/tsl/framework/cpu_allocator_impl.cc:83] Allocation of 106463232 exceeds 10% of free system memory.\n",
      "2025-09-05 06:03:57.890797: W external/local_xla/xla/tsl/framework/cpu_allocator_impl.cc:83] Allocation of 102760448 exceeds 10% of free system memory.\n"
     ]
    },
    {
     "name": "stdout",
     "output_type": "stream",
     "text": [
      "\u001b[1m125/125\u001b[0m \u001b[32m━━━━━━━━━━━━━━━━━━━━\u001b[0m\u001b[37m\u001b[0m \u001b[1m0s\u001b[0m 4s/step - acc: 0.6650 - auc: 0.7228 - loss: 0.6924 - precision: 0.6650 - recall: 0.6650\n",
      "Epoch 1: val_acc improved from -inf to 0.85400, saving model to best_resnet_catsdogs.keras\n",
      "\u001b[1m125/125\u001b[0m \u001b[32m━━━━━━━━━━━━━━━━━━━━\u001b[0m\u001b[37m\u001b[0m \u001b[1m676s\u001b[0m 5s/step - acc: 0.6656 - auc: 0.7236 - loss: 0.6912 - precision: 0.6656 - recall: 0.6656 - val_acc: 0.8540 - val_auc: 0.9312 - val_loss: 0.3339 - val_precision: 0.8540 - val_recall: 0.8540 - learning_rate: 3.0000e-04\n",
      "Epoch 2/10\n",
      "\u001b[1m125/125\u001b[0m \u001b[32m━━━━━━━━━━━━━━━━━━━━\u001b[0m\u001b[37m\u001b[0m \u001b[1m0s\u001b[0m 4s/step - acc: 0.8277 - auc: 0.9113 - loss: 0.3814 - precision: 0.8277 - recall: 0.8277\n",
      "Epoch 2: val_acc improved from 0.85400 to 0.87800, saving model to best_resnet_catsdogs.keras\n",
      "\u001b[1m125/125\u001b[0m \u001b[32m━━━━━━━━━━━━━━━━━━━━\u001b[0m\u001b[37m\u001b[0m \u001b[1m660s\u001b[0m 5s/step - acc: 0.8278 - auc: 0.9113 - loss: 0.3812 - precision: 0.8278 - recall: 0.8278 - val_acc: 0.8780 - val_auc: 0.9476 - val_loss: 0.2927 - val_precision: 0.8780 - val_recall: 0.8780 - learning_rate: 3.0000e-04\n",
      "Epoch 3/10\n",
      "\u001b[1m125/125\u001b[0m \u001b[32m━━━━━━━━━━━━━━━━━━━━\u001b[0m\u001b[37m\u001b[0m \u001b[1m0s\u001b[0m 4s/step - acc: 0.8546 - auc: 0.9329 - loss: 0.3311 - precision: 0.8546 - recall: 0.8546\n",
      "Epoch 3: val_acc improved from 0.87800 to 0.88750, saving model to best_resnet_catsdogs.keras\n",
      "\u001b[1m125/125\u001b[0m \u001b[32m━━━━━━━━━━━━━━━━━━━━\u001b[0m\u001b[37m\u001b[0m \u001b[1m670s\u001b[0m 5s/step - acc: 0.8546 - auc: 0.9329 - loss: 0.3311 - precision: 0.8546 - recall: 0.8546 - val_acc: 0.8875 - val_auc: 0.9540 - val_loss: 0.2748 - val_precision: 0.8875 - val_recall: 0.8875 - learning_rate: 3.0000e-04\n",
      "Epoch 4/10\n",
      "\u001b[1m125/125\u001b[0m \u001b[32m━━━━━━━━━━━━━━━━━━━━\u001b[0m\u001b[37m\u001b[0m \u001b[1m0s\u001b[0m 4s/step - acc: 0.8675 - auc: 0.9413 - loss: 0.3111 - precision: 0.8675 - recall: 0.8675\n",
      "Epoch 4: val_acc improved from 0.88750 to 0.89100, saving model to best_resnet_catsdogs.keras\n",
      "\u001b[1m125/125\u001b[0m \u001b[32m━━━━━━━━━━━━━━━━━━━━\u001b[0m\u001b[37m\u001b[0m \u001b[1m689s\u001b[0m 6s/step - acc: 0.8675 - auc: 0.9414 - loss: 0.3110 - precision: 0.8675 - recall: 0.8675 - val_acc: 0.8910 - val_auc: 0.9578 - val_loss: 0.2633 - val_precision: 0.8910 - val_recall: 0.8910 - learning_rate: 3.0000e-04\n",
      "Epoch 5/10\n",
      "\u001b[1m125/125\u001b[0m \u001b[32m━━━━━━━━━━━━━━━━━━━━\u001b[0m\u001b[37m\u001b[0m \u001b[1m0s\u001b[0m 4s/step - acc: 0.8706 - auc: 0.9449 - loss: 0.3018 - precision: 0.8706 - recall: 0.8706\n",
      "Epoch 5: val_acc did not improve from 0.89100\n",
      "\u001b[1m125/125\u001b[0m \u001b[32m━━━━━━━━━━━━━━━━━━━━\u001b[0m\u001b[37m\u001b[0m \u001b[1m670s\u001b[0m 5s/step - acc: 0.8706 - auc: 0.9449 - loss: 0.3018 - precision: 0.8706 - recall: 0.8706 - val_acc: 0.8895 - val_auc: 0.9605 - val_loss: 0.2549 - val_precision: 0.8895 - val_recall: 0.8895 - learning_rate: 3.0000e-04\n",
      "Epoch 6/10\n",
      "\u001b[1m125/125\u001b[0m \u001b[32m━━━━━━━━━━━━━━━━━━━━\u001b[0m\u001b[37m\u001b[0m \u001b[1m0s\u001b[0m 4s/step - acc: 0.8761 - auc: 0.9491 - loss: 0.2890 - precision: 0.8761 - recall: 0.8761\n",
      "Epoch 6: val_acc improved from 0.89100 to 0.89500, saving model to best_resnet_catsdogs.keras\n",
      "\u001b[1m125/125\u001b[0m \u001b[32m━━━━━━━━━━━━━━━━━━━━\u001b[0m\u001b[37m\u001b[0m \u001b[1m668s\u001b[0m 5s/step - acc: 0.8761 - auc: 0.9491 - loss: 0.2889 - precision: 0.8761 - recall: 0.8761 - val_acc: 0.8950 - val_auc: 0.9621 - val_loss: 0.2501 - val_precision: 0.8950 - val_recall: 0.8950 - learning_rate: 3.0000e-04\n",
      "Epoch 7/10\n",
      "\u001b[1m125/125\u001b[0m \u001b[32m━━━━━━━━━━━━━━━━━━━━\u001b[0m\u001b[37m\u001b[0m \u001b[1m0s\u001b[0m 4s/step - acc: 0.8860 - auc: 0.9533 - loss: 0.2773 - precision: 0.8860 - recall: 0.8860\n",
      "Epoch 7: val_acc did not improve from 0.89500\n",
      "\u001b[1m125/125\u001b[0m \u001b[32m━━━━━━━━━━━━━━━━━━━━\u001b[0m\u001b[37m\u001b[0m \u001b[1m669s\u001b[0m 5s/step - acc: 0.8860 - auc: 0.9533 - loss: 0.2773 - precision: 0.8860 - recall: 0.8860 - val_acc: 0.8905 - val_auc: 0.9567 - val_loss: 0.2681 - val_precision: 0.8905 - val_recall: 0.8905 - learning_rate: 3.0000e-04\n",
      "Epoch 8/10\n",
      "\u001b[1m125/125\u001b[0m \u001b[32m━━━━━━━━━━━━━━━━━━━━\u001b[0m\u001b[37m\u001b[0m \u001b[1m0s\u001b[0m 4s/step - acc: 0.8870 - auc: 0.9573 - loss: 0.2651 - precision: 0.8870 - recall: 0.8870\n",
      "Epoch 8: val_acc did not improve from 0.89500\n",
      "\u001b[1m125/125\u001b[0m \u001b[32m━━━━━━━━━━━━━━━━━━━━\u001b[0m\u001b[37m\u001b[0m \u001b[1m648s\u001b[0m 5s/step - acc: 0.8870 - auc: 0.9573 - loss: 0.2652 - precision: 0.8870 - recall: 0.8870 - val_acc: 0.8950 - val_auc: 0.9646 - val_loss: 0.2414 - val_precision: 0.8950 - val_recall: 0.8950 - learning_rate: 3.0000e-04\n",
      "Epoch 9/10\n",
      "\u001b[1m125/125\u001b[0m \u001b[32m━━━━━━━━━━━━━━━━━━━━\u001b[0m\u001b[37m\u001b[0m \u001b[1m0s\u001b[0m 4s/step - acc: 0.8838 - auc: 0.9550 - loss: 0.2717 - precision: 0.8838 - recall: 0.8838\n",
      "Epoch 9: val_acc improved from 0.89500 to 0.89850, saving model to best_resnet_catsdogs.keras\n",
      "\u001b[1m125/125\u001b[0m \u001b[32m━━━━━━━━━━━━━━━━━━━━\u001b[0m\u001b[37m\u001b[0m \u001b[1m669s\u001b[0m 5s/step - acc: 0.8838 - auc: 0.9550 - loss: 0.2717 - precision: 0.8838 - recall: 0.8838 - val_acc: 0.8985 - val_auc: 0.9634 - val_loss: 0.2449 - val_precision: 0.8985 - val_recall: 0.8985 - learning_rate: 3.0000e-04\n",
      "Epoch 10/10\n",
      "\u001b[1m125/125\u001b[0m \u001b[32m━━━━━━━━━━━━━━━━━━━━\u001b[0m\u001b[37m\u001b[0m \u001b[1m0s\u001b[0m 4s/step - acc: 0.8937 - auc: 0.9583 - loss: 0.2619 - precision: 0.8937 - recall: 0.8937\n",
      "Epoch 10: val_acc did not improve from 0.89850\n",
      "\u001b[1m125/125\u001b[0m \u001b[32m━━━━━━━━━━━━━━━━━━━━\u001b[0m\u001b[37m\u001b[0m \u001b[1m649s\u001b[0m 5s/step - acc: 0.8936 - auc: 0.9583 - loss: 0.2618 - precision: 0.8936 - recall: 0.8936 - val_acc: 0.8965 - val_auc: 0.9660 - val_loss: 0.2368 - val_precision: 0.8965 - val_recall: 0.8965 - learning_rate: 3.0000e-04\n"
     ]
    }
   ],
   "source": [
    "ckpt_path = \"best_resnet_catsdogs.keras\"\n",
    "callbacks = [\n",
    "    tf.keras.callbacks.ModelCheckpoint(ckpt_path, monitor=\"val_acc\", mode=\"max\",\n",
    "                                       save_best_only=True, verbose=1),\n",
    "    tf.keras.callbacks.EarlyStopping(monitor=\"val_acc\", mode=\"max\",\n",
    "                                     patience=4, restore_best_weights=True),\n",
    "    tf.keras.callbacks.ReduceLROnPlateau(monitor=\"val_loss\", factor=0.2,\n",
    "                                         patience=2, verbose=1, min_lr=1e-7),\n",
    "]\n",
    "\n",
    "history = model.fit(\n",
    "    train_ds,\n",
    "    validation_data=val_ds,\n",
    "    epochs=EPOCHS,\n",
    "    class_weight=class_weight,\n",
    "    callbacks=callbacks\n",
    ")\n"
   ]
  },
  {
   "cell_type": "code",
   "execution_count": 25,
   "id": "271fc0b7",
   "metadata": {},
   "outputs": [
    {
     "name": "stdout",
     "output_type": "stream",
     "text": [
      "Descongelando ~último 30% de capas para afinar…\n",
      "LR actualizado vía .assign a 2.9999999999999997e-05\n",
      "Epoch 1/5\n",
      "\u001b[1m125/125\u001b[0m \u001b[32m━━━━━━━━━━━━━━━━━━━━\u001b[0m\u001b[37m\u001b[0m \u001b[1m0s\u001b[0m 4s/step - acc: 0.8899 - auc: 0.9618 - loss: 0.2498 - precision: 0.8899 - recall: 0.8899\n",
      "Epoch 1: val_acc did not improve from 0.89850\n",
      "\u001b[1m125/125\u001b[0m \u001b[32m━━━━━━━━━━━━━━━━━━━━\u001b[0m\u001b[37m\u001b[0m \u001b[1m773s\u001b[0m 6s/step - acc: 0.8899 - auc: 0.9618 - loss: 0.2498 - precision: 0.8899 - recall: 0.8899 - val_acc: 0.8940 - val_auc: 0.9653 - val_loss: 0.2390 - val_precision: 0.8940 - val_recall: 0.8940 - learning_rate: 3.0000e-05\n",
      "Epoch 2/5\n",
      "\u001b[1m125/125\u001b[0m \u001b[32m━━━━━━━━━━━━━━━━━━━━\u001b[0m\u001b[37m\u001b[0m \u001b[1m0s\u001b[0m 7s/step - acc: 0.8874 - auc: 0.9596 - loss: 0.2573 - precision: 0.8874 - recall: 0.8874\n",
      "Epoch 2: val_acc did not improve from 0.89850\n",
      "\u001b[1m125/125\u001b[0m \u001b[32m━━━━━━━━━━━━━━━━━━━━\u001b[0m\u001b[37m\u001b[0m \u001b[1m1147s\u001b[0m 9s/step - acc: 0.8874 - auc: 0.9596 - loss: 0.2573 - precision: 0.8874 - recall: 0.8874 - val_acc: 0.8950 - val_auc: 0.9652 - val_loss: 0.2391 - val_precision: 0.8950 - val_recall: 0.8950 - learning_rate: 3.0000e-05\n",
      "Epoch 3/5\n",
      "\u001b[1m125/125\u001b[0m \u001b[32m━━━━━━━━━━━━━━━━━━━━\u001b[0m\u001b[37m\u001b[0m \u001b[1m0s\u001b[0m 5s/step - acc: 0.8888 - auc: 0.9578 - loss: 0.2635 - precision: 0.8888 - recall: 0.8888\n",
      "Epoch 3: val_acc did not improve from 0.89850\n",
      "\n",
      "Epoch 3: ReduceLROnPlateau reducing learning rate to 5.9999998484272515e-06.\n",
      "\u001b[1m125/125\u001b[0m \u001b[32m━━━━━━━━━━━━━━━━━━━━\u001b[0m\u001b[37m\u001b[0m \u001b[1m739s\u001b[0m 6s/step - acc: 0.8888 - auc: 0.9578 - loss: 0.2635 - precision: 0.8888 - recall: 0.8888 - val_acc: 0.8945 - val_auc: 0.9649 - val_loss: 0.2402 - val_precision: 0.8945 - val_recall: 0.8945 - learning_rate: 3.0000e-05\n",
      "Epoch 4/5\n",
      "\u001b[1m125/125\u001b[0m \u001b[32m━━━━━━━━━━━━━━━━━━━━\u001b[0m\u001b[37m\u001b[0m \u001b[1m0s\u001b[0m 4s/step - acc: 0.8933 - auc: 0.9612 - loss: 0.2520 - precision: 0.8933 - recall: 0.8933\n",
      "Epoch 4: val_acc did not improve from 0.89850\n",
      "\u001b[1m125/125\u001b[0m \u001b[32m━━━━━━━━━━━━━━━━━━━━\u001b[0m\u001b[37m\u001b[0m \u001b[1m671s\u001b[0m 5s/step - acc: 0.8933 - auc: 0.9612 - loss: 0.2520 - precision: 0.8933 - recall: 0.8933 - val_acc: 0.8940 - val_auc: 0.9654 - val_loss: 0.2382 - val_precision: 0.8940 - val_recall: 0.8940 - learning_rate: 6.0000e-06\n",
      "Epoch 5/5\n",
      "\u001b[1m125/125\u001b[0m \u001b[32m━━━━━━━━━━━━━━━━━━━━\u001b[0m\u001b[37m\u001b[0m \u001b[1m0s\u001b[0m 4s/step - acc: 0.8910 - auc: 0.9600 - loss: 0.2573 - precision: 0.8910 - recall: 0.8910\n",
      "Epoch 5: val_acc did not improve from 0.89850\n",
      "\u001b[1m125/125\u001b[0m \u001b[32m━━━━━━━━━━━━━━━━━━━━\u001b[0m\u001b[37m\u001b[0m \u001b[1m679s\u001b[0m 5s/step - acc: 0.8910 - auc: 0.9600 - loss: 0.2572 - precision: 0.8910 - recall: 0.8910 - val_acc: 0.8940 - val_auc: 0.9654 - val_loss: 0.2381 - val_precision: 0.8940 - val_recall: 0.8940 - learning_rate: 6.0000e-06\n"
     ]
    }
   ],
   "source": [
    "if FREEZE_BACKBONE:\n",
    "    print(\"Descongelando ~último 30% de capas para afinar…\")\n",
    "    # 1) Descongela las capas más profundas\n",
    "    n = len(base.layers)\n",
    "    for i, layer in enumerate(base.layers):\n",
    "        layer.trainable = (i > int(0.7 * n))\n",
    "\n",
    "    # 2) Bajar el LR de forma robusta (funciona con AMP / LossScaleOptimizer)\n",
    "    def set_optimizer_lr(model, new_lr):\n",
    "        opt = model.optimizer\n",
    "        # Si está envuelto (mixed precision), toma el optimizador interno\n",
    "        inner = getattr(opt, \"inner_optimizer\", opt)\n",
    "\n",
    "        # Intento A: asignar si es variable\n",
    "        lr_attr = getattr(inner, \"learning_rate\", None)\n",
    "        if hasattr(lr_attr, \"assign\"):\n",
    "            try:\n",
    "                lr_attr.assign(new_lr)\n",
    "                print(f\"LR actualizado vía .assign a {float(new_lr)}\")\n",
    "                return\n",
    "            except Exception as e:\n",
    "                print(\"No se pudo asignar LR directamente:\", e)\n",
    "\n",
    "        # Intento B: recrear el optimizador con mismo tipo/config pero nuevo LR\n",
    "        OptimClass = type(inner)\n",
    "        try:\n",
    "            cfg = inner.get_config()\n",
    "        except Exception:\n",
    "            cfg = {}\n",
    "        cfg.update({\"learning_rate\": new_lr})\n",
    "        new_inner = OptimClass(**cfg) if cfg else OptimClass(learning_rate=new_lr)\n",
    "\n",
    "        # Reaplica wrapper de mixed precision si existía\n",
    "        if hasattr(opt, \"inner_optimizer\"):\n",
    "            from tensorflow.keras.mixed_precision import LossScaleOptimizer\n",
    "            new_opt = LossScaleOptimizer(new_inner)\n",
    "        else:\n",
    "            new_opt = new_inner\n",
    "\n",
    "        model.compile(optimizer=new_opt, loss=model.loss, metrics=model.metrics)\n",
    "        print(f\"LR actualizado recreando optimizer a {float(new_lr)}\")\n",
    "\n",
    "    set_optimizer_lr(model, LR * 0.1)\n",
    "\n",
    "    # 3) Entrenamiento de fine-tuning\n",
    "    history_ft = model.fit(\n",
    "        train_ds,\n",
    "        validation_data=val_ds,\n",
    "        epochs=max(3, EPOCHS // 2),\n",
    "        class_weight=class_weight,\n",
    "        callbacks=callbacks\n",
    "    )\n",
    "else:\n",
    "    print(\"El backbone ya estaba entrenable; puedes continuar entrenando bajando el LR si lo deseas.\")\n"
   ]
  },
  {
   "cell_type": "code",
   "execution_count": 26,
   "id": "21f2c2aa",
   "metadata": {},
   "outputs": [
    {
     "name": "stdout",
     "output_type": "stream",
     "text": [
      "== Evaluación en test ==\n",
      "loss: 0.2380\n",
      "compile_metrics: 0.8995\n"
     ]
    },
    {
     "name": "stderr",
     "output_type": "stream",
     "text": [
      "2025-09-05 09:10:07.049313: I tensorflow/core/framework/local_rendezvous.cc:405] Local rendezvous is aborting with status: OUT_OF_RANGE: End of sequence\n"
     ]
    },
    {
     "name": "stdout",
     "output_type": "stream",
     "text": [
      "\n",
      "== Reporte de clasificación ==\n",
      "              precision    recall  f1-score   support\n",
      "\n",
      "         cat     0.8983    0.9010    0.8997      1000\n",
      "         dog     0.9007    0.8980    0.8993      1000\n",
      "\n",
      "    accuracy                         0.8995      2000\n",
      "   macro avg     0.8995    0.8995    0.8995      2000\n",
      "weighted avg     0.8995    0.8995    0.8995      2000\n",
      "\n",
      "Matriz de confusión:\n",
      " [[901  99]\n",
      " [102 898]]\n"
     ]
    },
    {
     "data": {
      "image/png": "[encoded data removed]",
      "text/plain": [
       "<Figure size 1320x440 with 12 Axes>"
      ]
     },
     "metadata": {},
     "output_type": "display_data"
    }
   ],
   "source": [
    "print(\"== Evaluación en test ==\")\n",
    "test_metrics = model.evaluate(test_ds, verbose=0)\n",
    "for name, val in zip(model.metrics_names, test_metrics):\n",
    "    print(f\"{name}: {val:.4f}\")\n",
    "\n",
    "# Predicciones\n",
    "y_true = y_test\n",
    "probs = np.concatenate([model.predict(bx, verbose=0) for bx, _ in test_ds])\n",
    "y_pred = probs.argmax(axis=1)\n",
    "\n",
    "print(\"\\n== Reporte de clasificación ==\")\n",
    "print(classification_report(y_true, y_pred, target_names=class_names, digits=4))\n",
    "cm = confusion_matrix(y_true, y_pred, labels=[0,1])\n",
    "print(\"Matriz de confusión:\\n\", cm)\n",
    "\n",
    "# Visual rápido de algunas predicciones\n",
    "def show_samples(x, y_true, y_pred, n=12):\n",
    "    idx = np.random.choice(len(x), size=n, replace=False)\n",
    "    cols = 6\n",
    "    rows = int(np.ceil(n / cols))\n",
    "    plt.figure(figsize=(cols*2.2, rows*2.2))\n",
    "    for i, j in enumerate(idx):\n",
    "        ax = plt.subplot(rows, cols, i+1)\n",
    "        plt.imshow(x[j])\n",
    "        t = class_names[y_true[j]]\n",
    "        p = class_names[y_pred[j]]\n",
    "        color = \"green\" if y_true[j] == y_pred[j] else \"red\"\n",
    "        ax.set_title(f\"T:{t} / P:{p}\", color=color, fontsize=9)\n",
    "        ax.axis(\"off\")\n",
    "    plt.tight_layout()\n",
    "    plt.show()\n",
    "\n",
    "show_samples(x_test, y_true, y_pred, n=12)\n"
   ]
  }
 ],
 "metadata": {
  "kernelspec": {
   "display_name": ".venv (3.10.12)",
   "language": "python",
   "name": "python3"
  },
  "language_info": {
   "codemirror_mode": {
    "name": "ipython",
    "version": 3
   },
   "file_extension": ".py",
   "mimetype": "text/x-python",
   "name": "python",
   "nbconvert_exporter": "python",
   "pygments_lexer": "ipython3",
   "version": "3.10.12"
  }
 },
 "nbformat": 4,
 "nbformat_minor": 5
}
